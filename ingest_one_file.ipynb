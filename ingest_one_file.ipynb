{
 "cells": [
  {
   "cell_type": "markdown",
   "metadata": {},
   "source": [
    "## First File Ingestion"
   ]
  },
  {
   "cell_type": "code",
   "execution_count": 131,
   "metadata": {},
   "outputs": [],
   "source": [
    "from datetime import datetime, time\n",
    "\n",
    "import pandas as pd\n",
    "import matplotlib.pyplot as plt\n",
    "import seaborn as sns; sns.set()"
   ]
  },
  {
   "cell_type": "code",
   "execution_count": 34,
   "metadata": {},
   "outputs": [],
   "source": [
    "df = pd.read_csv('../../data/raw/GSR Audio Sensor Data- 9.3.19/D3S2-P1-92AB-A-272643.csv', header=2)"
   ]
  },
  {
   "cell_type": "code",
   "execution_count": 35,
   "metadata": {},
   "outputs": [
    {
     "data": {
      "text/html": [
       "<div>\n",
       "<style scoped>\n",
       "    .dataframe tbody tr th:only-of-type {\n",
       "        vertical-align: middle;\n",
       "    }\n",
       "\n",
       "    .dataframe tbody tr th {\n",
       "        vertical-align: top;\n",
       "    }\n",
       "\n",
       "    .dataframe thead th {\n",
       "        text-align: right;\n",
       "    }\n",
       "</style>\n",
       "<table border=\"1\" class=\"dataframe\">\n",
       "  <thead>\n",
       "    <tr style=\"text-align: right;\">\n",
       "      <th></th>\n",
       "      <th>StudyName</th>\n",
       "      <th>Name</th>\n",
       "      <th>StimulusName</th>\n",
       "      <th>EventSource</th>\n",
       "      <th>Timestamp</th>\n",
       "      <th>MediaTime</th>\n",
       "      <th>PostMarker</th>\n",
       "      <th>Annotation</th>\n",
       "      <th>Timestamp RAW (no units) (92AB)</th>\n",
       "      <th>Timestamp CAL (mSecs) (92AB)</th>\n",
       "      <th>System Timestamp CAL (mSecs) (92AB)</th>\n",
       "      <th>VSenseBatt RAW (no units) (92AB)</th>\n",
       "      <th>VSenseBatt CAL (mVolts) (92AB)</th>\n",
       "      <th>GSR RAW (no units) (92AB)</th>\n",
       "      <th>GSR CAL (kOhms) (92AB)</th>\n",
       "      <th>GSR CAL (µSiemens) (92AB)</th>\n",
       "    </tr>\n",
       "  </thead>\n",
       "  <tbody>\n",
       "    <tr>\n",
       "      <td>0</td>\n",
       "      <td>NNI Jail Data</td>\n",
       "      <td>D3S2-P1-92AB-A-272643</td>\n",
       "      <td>Mountain</td>\n",
       "      <td>92AB 92AB</td>\n",
       "      <td>20190227_095957788</td>\n",
       "      <td>NaN</td>\n",
       "      <td>NaN</td>\n",
       "      <td>NaN</td>\n",
       "      <td>16707846</td>\n",
       "      <td>866921.8750</td>\n",
       "      <td>1.551290e+12</td>\n",
       "      <td>2766</td>\n",
       "      <td>4028.430769</td>\n",
       "      <td>52769</td>\n",
       "      <td>742.264527</td>\n",
       "      <td>1.347229</td>\n",
       "    </tr>\n",
       "    <tr>\n",
       "      <td>1</td>\n",
       "      <td>NNI Jail Data</td>\n",
       "      <td>D3S2-P1-92AB-A-272643</td>\n",
       "      <td>Mountain</td>\n",
       "      <td>92AB 92AB</td>\n",
       "      <td>20190227_095957789</td>\n",
       "      <td>NaN</td>\n",
       "      <td>NaN</td>\n",
       "      <td>NaN</td>\n",
       "      <td>16708102</td>\n",
       "      <td>866929.6875</td>\n",
       "      <td>1.551290e+12</td>\n",
       "      <td>2774</td>\n",
       "      <td>4040.082051</td>\n",
       "      <td>52770</td>\n",
       "      <td>742.013486</td>\n",
       "      <td>1.347684</td>\n",
       "    </tr>\n",
       "    <tr>\n",
       "      <td>2</td>\n",
       "      <td>NNI Jail Data</td>\n",
       "      <td>D3S2-P1-92AB-A-272643</td>\n",
       "      <td>Mountain</td>\n",
       "      <td>92AB 92AB</td>\n",
       "      <td>20190227_095957789</td>\n",
       "      <td>NaN</td>\n",
       "      <td>NaN</td>\n",
       "      <td>NaN</td>\n",
       "      <td>16708358</td>\n",
       "      <td>866937.5000</td>\n",
       "      <td>1.551290e+12</td>\n",
       "      <td>2758</td>\n",
       "      <td>4016.779487</td>\n",
       "      <td>52771</td>\n",
       "      <td>741.762615</td>\n",
       "      <td>1.348140</td>\n",
       "    </tr>\n",
       "    <tr>\n",
       "      <td>3</td>\n",
       "      <td>NNI Jail Data</td>\n",
       "      <td>D3S2-P1-92AB-A-272643</td>\n",
       "      <td>Mountain</td>\n",
       "      <td>92AB 92AB</td>\n",
       "      <td>20190227_095957812</td>\n",
       "      <td>0.0</td>\n",
       "      <td>Include GSR|Include Facial</td>\n",
       "      <td>NaN</td>\n",
       "      <td>16708614</td>\n",
       "      <td>866945.3125</td>\n",
       "      <td>1.551290e+12</td>\n",
       "      <td>2770</td>\n",
       "      <td>4034.256410</td>\n",
       "      <td>52770</td>\n",
       "      <td>742.013486</td>\n",
       "      <td>1.347684</td>\n",
       "    </tr>\n",
       "    <tr>\n",
       "      <td>4</td>\n",
       "      <td>NNI Jail Data</td>\n",
       "      <td>D3S2-P1-92AB-A-272643</td>\n",
       "      <td>Mountain</td>\n",
       "      <td>92AB 92AB</td>\n",
       "      <td>20190227_095957813</td>\n",
       "      <td>0.0</td>\n",
       "      <td>Include GSR|Include Facial</td>\n",
       "      <td>NaN</td>\n",
       "      <td>16708870</td>\n",
       "      <td>866953.1250</td>\n",
       "      <td>1.551290e+12</td>\n",
       "      <td>2753</td>\n",
       "      <td>4009.497436</td>\n",
       "      <td>52773</td>\n",
       "      <td>741.261381</td>\n",
       "      <td>1.349052</td>\n",
       "    </tr>\n",
       "  </tbody>\n",
       "</table>\n",
       "</div>"
      ],
      "text/plain": [
       "       StudyName                   Name StimulusName EventSource  \\\n",
       "0  NNI Jail Data  D3S2-P1-92AB-A-272643     Mountain   92AB 92AB   \n",
       "1  NNI Jail Data  D3S2-P1-92AB-A-272643     Mountain   92AB 92AB   \n",
       "2  NNI Jail Data  D3S2-P1-92AB-A-272643     Mountain   92AB 92AB   \n",
       "3  NNI Jail Data  D3S2-P1-92AB-A-272643     Mountain   92AB 92AB   \n",
       "4  NNI Jail Data  D3S2-P1-92AB-A-272643     Mountain   92AB 92AB   \n",
       "\n",
       "            Timestamp  MediaTime                  PostMarker  Annotation  \\\n",
       "0  20190227_095957788        NaN                         NaN         NaN   \n",
       "1  20190227_095957789        NaN                         NaN         NaN   \n",
       "2  20190227_095957789        NaN                         NaN         NaN   \n",
       "3  20190227_095957812        0.0  Include GSR|Include Facial         NaN   \n",
       "4  20190227_095957813        0.0  Include GSR|Include Facial         NaN   \n",
       "\n",
       "   Timestamp RAW (no units) (92AB)  Timestamp CAL (mSecs) (92AB)  \\\n",
       "0                         16707846                   866921.8750   \n",
       "1                         16708102                   866929.6875   \n",
       "2                         16708358                   866937.5000   \n",
       "3                         16708614                   866945.3125   \n",
       "4                         16708870                   866953.1250   \n",
       "\n",
       "   System Timestamp CAL (mSecs) (92AB)  VSenseBatt RAW (no units) (92AB)  \\\n",
       "0                         1.551290e+12                              2766   \n",
       "1                         1.551290e+12                              2774   \n",
       "2                         1.551290e+12                              2758   \n",
       "3                         1.551290e+12                              2770   \n",
       "4                         1.551290e+12                              2753   \n",
       "\n",
       "   VSenseBatt CAL (mVolts) (92AB)  GSR RAW (no units) (92AB)  \\\n",
       "0                     4028.430769                      52769   \n",
       "1                     4040.082051                      52770   \n",
       "2                     4016.779487                      52771   \n",
       "3                     4034.256410                      52770   \n",
       "4                     4009.497436                      52773   \n",
       "\n",
       "   GSR CAL (kOhms) (92AB)  GSR CAL (µSiemens) (92AB)  \n",
       "0              742.264527                   1.347229  \n",
       "1              742.013486                   1.347684  \n",
       "2              741.762615                   1.348140  \n",
       "3              742.013486                   1.347684  \n",
       "4              741.261381                   1.349052  "
      ]
     },
     "execution_count": 35,
     "metadata": {},
     "output_type": "execute_result"
    }
   ],
   "source": [
    "df.head()"
   ]
  },
  {
   "cell_type": "code",
   "execution_count": 42,
   "metadata": {},
   "outputs": [
    {
     "data": {
      "text/plain": [
       "(87228, 16)"
      ]
     },
     "execution_count": 42,
     "metadata": {},
     "output_type": "execute_result"
    }
   ],
   "source": [
    "df.shape"
   ]
  },
  {
   "cell_type": "code",
   "execution_count": 55,
   "metadata": {
    "scrolled": false
   },
   "outputs": [
    {
     "data": {
      "text/html": [
       "<div>\n",
       "<style scoped>\n",
       "    .dataframe tbody tr th:only-of-type {\n",
       "        vertical-align: middle;\n",
       "    }\n",
       "\n",
       "    .dataframe tbody tr th {\n",
       "        vertical-align: top;\n",
       "    }\n",
       "\n",
       "    .dataframe thead th {\n",
       "        text-align: right;\n",
       "    }\n",
       "</style>\n",
       "<table border=\"1\" class=\"dataframe\">\n",
       "  <thead>\n",
       "    <tr style=\"text-align: right;\">\n",
       "      <th></th>\n",
       "      <th>StudyName</th>\n",
       "      <th>Name</th>\n",
       "      <th>StimulusName</th>\n",
       "      <th>EventSource</th>\n",
       "      <th>Timestamp</th>\n",
       "      <th>MediaTime</th>\n",
       "      <th>PostMarker</th>\n",
       "      <th>Annotation</th>\n",
       "      <th>Timestamp RAW (no units) (92AB)</th>\n",
       "      <th>Timestamp CAL (mSecs) (92AB)</th>\n",
       "      <th>System Timestamp CAL (mSecs) (92AB)</th>\n",
       "      <th>VSenseBatt RAW (no units) (92AB)</th>\n",
       "      <th>VSenseBatt CAL (mVolts) (92AB)</th>\n",
       "      <th>GSR RAW (no units) (92AB)</th>\n",
       "      <th>GSR CAL (kOhms) (92AB)</th>\n",
       "      <th>GSR CAL (µSiemens) (92AB)</th>\n",
       "    </tr>\n",
       "  </thead>\n",
       "  <tbody>\n",
       "    <tr>\n",
       "      <td>87223</td>\n",
       "      <td>NNI Jail Data</td>\n",
       "      <td>D3S2-P1-92AB-A-272643</td>\n",
       "      <td>Stream</td>\n",
       "      <td>92AB 92AB</td>\n",
       "      <td>2019-02-27 10:11:19.360</td>\n",
       "      <td>171477.0</td>\n",
       "      <td>NaN</td>\n",
       "      <td>NaN</td>\n",
       "      <td>5487622</td>\n",
       "      <td>1548507.813</td>\n",
       "      <td>1.551290e+12</td>\n",
       "      <td>2751</td>\n",
       "      <td>4006.584615</td>\n",
       "      <td>52927</td>\n",
       "      <td>704.599981</td>\n",
       "      <td>1.419245</td>\n",
       "    </tr>\n",
       "    <tr>\n",
       "      <td>87224</td>\n",
       "      <td>NNI Jail Data</td>\n",
       "      <td>D3S2-P1-92AB-A-272643</td>\n",
       "      <td>Stream</td>\n",
       "      <td>92AB 92AB</td>\n",
       "      <td>2019-02-27 10:11:19.361</td>\n",
       "      <td>171478.0</td>\n",
       "      <td>NaN</td>\n",
       "      <td>NaN</td>\n",
       "      <td>5487878</td>\n",
       "      <td>1548515.625</td>\n",
       "      <td>1.551290e+12</td>\n",
       "      <td>2759</td>\n",
       "      <td>4018.235897</td>\n",
       "      <td>52926</td>\n",
       "      <td>704.826341</td>\n",
       "      <td>1.418789</td>\n",
       "    </tr>\n",
       "    <tr>\n",
       "      <td>87225</td>\n",
       "      <td>NNI Jail Data</td>\n",
       "      <td>D3S2-P1-92AB-A-272643</td>\n",
       "      <td>Stream</td>\n",
       "      <td>92AB 92AB</td>\n",
       "      <td>2019-02-27 10:11:19.383</td>\n",
       "      <td>171501.0</td>\n",
       "      <td>NaN</td>\n",
       "      <td>NaN</td>\n",
       "      <td>5488134</td>\n",
       "      <td>1548523.438</td>\n",
       "      <td>1.551290e+12</td>\n",
       "      <td>2761</td>\n",
       "      <td>4021.148718</td>\n",
       "      <td>52925</td>\n",
       "      <td>705.052846</td>\n",
       "      <td>1.418333</td>\n",
       "    </tr>\n",
       "    <tr>\n",
       "      <td>87226</td>\n",
       "      <td>NNI Jail Data</td>\n",
       "      <td>D3S2-P1-92AB-A-272643</td>\n",
       "      <td>Stream</td>\n",
       "      <td>92AB 92AB</td>\n",
       "      <td>2019-02-27 10:11:19.383</td>\n",
       "      <td>171501.0</td>\n",
       "      <td>NaN</td>\n",
       "      <td>NaN</td>\n",
       "      <td>5488390</td>\n",
       "      <td>1548531.250</td>\n",
       "      <td>1.551290e+12</td>\n",
       "      <td>2759</td>\n",
       "      <td>4018.235897</td>\n",
       "      <td>52926</td>\n",
       "      <td>704.826341</td>\n",
       "      <td>1.418789</td>\n",
       "    </tr>\n",
       "    <tr>\n",
       "      <td>87227</td>\n",
       "      <td>NNI Jail Data</td>\n",
       "      <td>D3S2-P1-92AB-A-272643</td>\n",
       "      <td>Stream</td>\n",
       "      <td>92AB 92AB</td>\n",
       "      <td>2019-02-27 10:11:19.384</td>\n",
       "      <td>171502.0</td>\n",
       "      <td>NaN</td>\n",
       "      <td>NaN</td>\n",
       "      <td>5488646</td>\n",
       "      <td>1548539.063</td>\n",
       "      <td>1.551290e+12</td>\n",
       "      <td>2747</td>\n",
       "      <td>4000.758974</td>\n",
       "      <td>52926</td>\n",
       "      <td>704.826341</td>\n",
       "      <td>1.418789</td>\n",
       "    </tr>\n",
       "  </tbody>\n",
       "</table>\n",
       "</div>"
      ],
      "text/plain": [
       "           StudyName                   Name StimulusName EventSource  \\\n",
       "87223  NNI Jail Data  D3S2-P1-92AB-A-272643       Stream   92AB 92AB   \n",
       "87224  NNI Jail Data  D3S2-P1-92AB-A-272643       Stream   92AB 92AB   \n",
       "87225  NNI Jail Data  D3S2-P1-92AB-A-272643       Stream   92AB 92AB   \n",
       "87226  NNI Jail Data  D3S2-P1-92AB-A-272643       Stream   92AB 92AB   \n",
       "87227  NNI Jail Data  D3S2-P1-92AB-A-272643       Stream   92AB 92AB   \n",
       "\n",
       "                    Timestamp  MediaTime PostMarker  Annotation  \\\n",
       "87223 2019-02-27 10:11:19.360   171477.0        NaN         NaN   \n",
       "87224 2019-02-27 10:11:19.361   171478.0        NaN         NaN   \n",
       "87225 2019-02-27 10:11:19.383   171501.0        NaN         NaN   \n",
       "87226 2019-02-27 10:11:19.383   171501.0        NaN         NaN   \n",
       "87227 2019-02-27 10:11:19.384   171502.0        NaN         NaN   \n",
       "\n",
       "       Timestamp RAW (no units) (92AB)  Timestamp CAL (mSecs) (92AB)  \\\n",
       "87223                          5487622                   1548507.813   \n",
       "87224                          5487878                   1548515.625   \n",
       "87225                          5488134                   1548523.438   \n",
       "87226                          5488390                   1548531.250   \n",
       "87227                          5488646                   1548539.063   \n",
       "\n",
       "       System Timestamp CAL (mSecs) (92AB)  VSenseBatt RAW (no units) (92AB)  \\\n",
       "87223                         1.551290e+12                              2751   \n",
       "87224                         1.551290e+12                              2759   \n",
       "87225                         1.551290e+12                              2761   \n",
       "87226                         1.551290e+12                              2759   \n",
       "87227                         1.551290e+12                              2747   \n",
       "\n",
       "       VSenseBatt CAL (mVolts) (92AB)  GSR RAW (no units) (92AB)  \\\n",
       "87223                     4006.584615                      52927   \n",
       "87224                     4018.235897                      52926   \n",
       "87225                     4021.148718                      52925   \n",
       "87226                     4018.235897                      52926   \n",
       "87227                     4000.758974                      52926   \n",
       "\n",
       "       GSR CAL (kOhms) (92AB)  GSR CAL (µSiemens) (92AB)  \n",
       "87223              704.599981                   1.419245  \n",
       "87224              704.826341                   1.418789  \n",
       "87225              705.052846                   1.418333  \n",
       "87226              704.826341                   1.418789  \n",
       "87227              704.826341                   1.418789  "
      ]
     },
     "execution_count": 55,
     "metadata": {},
     "output_type": "execute_result"
    }
   ],
   "source": [
    "x = df.copy()\n",
    "x['Timestamp'] = pd.to_datetime(x['Timestamp'],  format=\"%Y%m%d_%H%M%S%f\")\n",
    "x.tail()"
   ]
  },
  {
   "cell_type": "code",
   "execution_count": 56,
   "metadata": {},
   "outputs": [
    {
     "data": {
      "text/html": [
       "<div>\n",
       "<style scoped>\n",
       "    .dataframe tbody tr th:only-of-type {\n",
       "        vertical-align: middle;\n",
       "    }\n",
       "\n",
       "    .dataframe tbody tr th {\n",
       "        vertical-align: top;\n",
       "    }\n",
       "\n",
       "    .dataframe thead th {\n",
       "        text-align: right;\n",
       "    }\n",
       "</style>\n",
       "<table border=\"1\" class=\"dataframe\">\n",
       "  <thead>\n",
       "    <tr style=\"text-align: right;\">\n",
       "      <th></th>\n",
       "      <th>StudyName</th>\n",
       "      <th>Name</th>\n",
       "      <th>StimulusName</th>\n",
       "      <th>EventSource</th>\n",
       "      <th>MediaTime</th>\n",
       "      <th>PostMarker</th>\n",
       "      <th>Annotation</th>\n",
       "      <th>Timestamp RAW (no units) (92AB)</th>\n",
       "      <th>Timestamp CAL (mSecs) (92AB)</th>\n",
       "      <th>System Timestamp CAL (mSecs) (92AB)</th>\n",
       "      <th>VSenseBatt RAW (no units) (92AB)</th>\n",
       "      <th>VSenseBatt CAL (mVolts) (92AB)</th>\n",
       "      <th>GSR RAW (no units) (92AB)</th>\n",
       "      <th>GSR CAL (kOhms) (92AB)</th>\n",
       "      <th>GSR CAL (µSiemens) (92AB)</th>\n",
       "    </tr>\n",
       "  </thead>\n",
       "  <tbody>\n",
       "    <tr>\n",
       "      <td>10:11:19.360000</td>\n",
       "      <td>NNI Jail Data</td>\n",
       "      <td>D3S2-P1-92AB-A-272643</td>\n",
       "      <td>Stream</td>\n",
       "      <td>92AB 92AB</td>\n",
       "      <td>171477.0</td>\n",
       "      <td>NaN</td>\n",
       "      <td>NaN</td>\n",
       "      <td>5487622</td>\n",
       "      <td>1548507.813</td>\n",
       "      <td>1.551290e+12</td>\n",
       "      <td>2751</td>\n",
       "      <td>4006.584615</td>\n",
       "      <td>52927</td>\n",
       "      <td>704.599981</td>\n",
       "      <td>1.419245</td>\n",
       "    </tr>\n",
       "    <tr>\n",
       "      <td>10:11:19.361000</td>\n",
       "      <td>NNI Jail Data</td>\n",
       "      <td>D3S2-P1-92AB-A-272643</td>\n",
       "      <td>Stream</td>\n",
       "      <td>92AB 92AB</td>\n",
       "      <td>171478.0</td>\n",
       "      <td>NaN</td>\n",
       "      <td>NaN</td>\n",
       "      <td>5487878</td>\n",
       "      <td>1548515.625</td>\n",
       "      <td>1.551290e+12</td>\n",
       "      <td>2759</td>\n",
       "      <td>4018.235897</td>\n",
       "      <td>52926</td>\n",
       "      <td>704.826341</td>\n",
       "      <td>1.418789</td>\n",
       "    </tr>\n",
       "    <tr>\n",
       "      <td>10:11:19.383000</td>\n",
       "      <td>NNI Jail Data</td>\n",
       "      <td>D3S2-P1-92AB-A-272643</td>\n",
       "      <td>Stream</td>\n",
       "      <td>92AB 92AB</td>\n",
       "      <td>171501.0</td>\n",
       "      <td>NaN</td>\n",
       "      <td>NaN</td>\n",
       "      <td>5488134</td>\n",
       "      <td>1548523.438</td>\n",
       "      <td>1.551290e+12</td>\n",
       "      <td>2761</td>\n",
       "      <td>4021.148718</td>\n",
       "      <td>52925</td>\n",
       "      <td>705.052846</td>\n",
       "      <td>1.418333</td>\n",
       "    </tr>\n",
       "    <tr>\n",
       "      <td>10:11:19.383000</td>\n",
       "      <td>NNI Jail Data</td>\n",
       "      <td>D3S2-P1-92AB-A-272643</td>\n",
       "      <td>Stream</td>\n",
       "      <td>92AB 92AB</td>\n",
       "      <td>171501.0</td>\n",
       "      <td>NaN</td>\n",
       "      <td>NaN</td>\n",
       "      <td>5488390</td>\n",
       "      <td>1548531.250</td>\n",
       "      <td>1.551290e+12</td>\n",
       "      <td>2759</td>\n",
       "      <td>4018.235897</td>\n",
       "      <td>52926</td>\n",
       "      <td>704.826341</td>\n",
       "      <td>1.418789</td>\n",
       "    </tr>\n",
       "    <tr>\n",
       "      <td>10:11:19.384000</td>\n",
       "      <td>NNI Jail Data</td>\n",
       "      <td>D3S2-P1-92AB-A-272643</td>\n",
       "      <td>Stream</td>\n",
       "      <td>92AB 92AB</td>\n",
       "      <td>171502.0</td>\n",
       "      <td>NaN</td>\n",
       "      <td>NaN</td>\n",
       "      <td>5488646</td>\n",
       "      <td>1548539.063</td>\n",
       "      <td>1.551290e+12</td>\n",
       "      <td>2747</td>\n",
       "      <td>4000.758974</td>\n",
       "      <td>52926</td>\n",
       "      <td>704.826341</td>\n",
       "      <td>1.418789</td>\n",
       "    </tr>\n",
       "  </tbody>\n",
       "</table>\n",
       "</div>"
      ],
      "text/plain": [
       "                     StudyName                   Name StimulusName  \\\n",
       "10:11:19.360000  NNI Jail Data  D3S2-P1-92AB-A-272643       Stream   \n",
       "10:11:19.361000  NNI Jail Data  D3S2-P1-92AB-A-272643       Stream   \n",
       "10:11:19.383000  NNI Jail Data  D3S2-P1-92AB-A-272643       Stream   \n",
       "10:11:19.383000  NNI Jail Data  D3S2-P1-92AB-A-272643       Stream   \n",
       "10:11:19.384000  NNI Jail Data  D3S2-P1-92AB-A-272643       Stream   \n",
       "\n",
       "                EventSource  MediaTime PostMarker  Annotation  \\\n",
       "10:11:19.360000   92AB 92AB   171477.0        NaN         NaN   \n",
       "10:11:19.361000   92AB 92AB   171478.0        NaN         NaN   \n",
       "10:11:19.383000   92AB 92AB   171501.0        NaN         NaN   \n",
       "10:11:19.383000   92AB 92AB   171501.0        NaN         NaN   \n",
       "10:11:19.384000   92AB 92AB   171502.0        NaN         NaN   \n",
       "\n",
       "                 Timestamp RAW (no units) (92AB)  \\\n",
       "10:11:19.360000                          5487622   \n",
       "10:11:19.361000                          5487878   \n",
       "10:11:19.383000                          5488134   \n",
       "10:11:19.383000                          5488390   \n",
       "10:11:19.384000                          5488646   \n",
       "\n",
       "                 Timestamp CAL (mSecs) (92AB)  \\\n",
       "10:11:19.360000                   1548507.813   \n",
       "10:11:19.361000                   1548515.625   \n",
       "10:11:19.383000                   1548523.438   \n",
       "10:11:19.383000                   1548531.250   \n",
       "10:11:19.384000                   1548539.063   \n",
       "\n",
       "                 System Timestamp CAL (mSecs) (92AB)  \\\n",
       "10:11:19.360000                         1.551290e+12   \n",
       "10:11:19.361000                         1.551290e+12   \n",
       "10:11:19.383000                         1.551290e+12   \n",
       "10:11:19.383000                         1.551290e+12   \n",
       "10:11:19.384000                         1.551290e+12   \n",
       "\n",
       "                 VSenseBatt RAW (no units) (92AB)  \\\n",
       "10:11:19.360000                              2751   \n",
       "10:11:19.361000                              2759   \n",
       "10:11:19.383000                              2761   \n",
       "10:11:19.383000                              2759   \n",
       "10:11:19.384000                              2747   \n",
       "\n",
       "                 VSenseBatt CAL (mVolts) (92AB)  GSR RAW (no units) (92AB)  \\\n",
       "10:11:19.360000                     4006.584615                      52927   \n",
       "10:11:19.361000                     4018.235897                      52926   \n",
       "10:11:19.383000                     4021.148718                      52925   \n",
       "10:11:19.383000                     4018.235897                      52926   \n",
       "10:11:19.384000                     4000.758974                      52926   \n",
       "\n",
       "                 GSR CAL (kOhms) (92AB)  GSR CAL (µSiemens) (92AB)  \n",
       "10:11:19.360000              704.599981                   1.419245  \n",
       "10:11:19.361000              704.826341                   1.418789  \n",
       "10:11:19.383000              705.052846                   1.418333  \n",
       "10:11:19.383000              704.826341                   1.418789  \n",
       "10:11:19.384000              704.826341                   1.418789  "
      ]
     },
     "execution_count": 56,
     "metadata": {},
     "output_type": "execute_result"
    }
   ],
   "source": [
    "x = x.set_index('Timestamp')\n",
    "x = x.set_index(x.index.time)"
   ]
  },
  {
   "cell_type": "code",
   "execution_count": 71,
   "metadata": {},
   "outputs": [
    {
     "data": {
      "text/plain": [
       "48"
      ]
     },
     "execution_count": 71,
     "metadata": {},
     "output_type": "execute_result"
    }
   ],
   "source": [
    "x.index[0].minute - x.index[-1].minute"
   ]
  },
  {
   "cell_type": "code",
   "execution_count": 39,
   "metadata": {
    "scrolled": false
   },
   "outputs": [
    {
     "data": {
      "text/plain": [
       "Index(['StudyName', 'Name', 'StimulusName', 'EventSource', 'MediaTime',\n",
       "       'PostMarker', 'Annotation', 'Timestamp RAW (no units) (92AB)',\n",
       "       'Timestamp CAL (mSecs) (92AB)', 'System Timestamp CAL (mSecs) (92AB)',\n",
       "       'VSenseBatt RAW (no units) (92AB)', 'VSenseBatt CAL (mVolts) (92AB)',\n",
       "       'GSR RAW (no units) (92AB)', 'GSR CAL (kOhms) (92AB)',\n",
       "       'GSR CAL (µSiemens) (92AB)'],\n",
       "      dtype='object')"
      ]
     },
     "execution_count": 39,
     "metadata": {},
     "output_type": "execute_result"
    }
   ],
   "source": [
    "x.columns"
   ]
  },
  {
   "cell_type": "code",
   "execution_count": 40,
   "metadata": {},
   "outputs": [],
   "source": [
    "raw_gsr_column_name = list(x.columns)[-1]"
   ]
  },
  {
   "cell_type": "code",
   "execution_count": 41,
   "metadata": {
    "scrolled": true
   },
   "outputs": [
    {
     "data": {
      "image/png": "[encoded data removed]",
      "text/plain": [
       "<Figure size 720x288 with 1 Axes>"
      ]
     },
     "metadata": {},
     "output_type": "display_data"
    }
   ],
   "source": [
    "plt.figure(figsize=(10,4))\n",
    "x[raw_gsr_column_name].plot(kind='line')\n",
    "plt.show()"
   ]
  },
  {
   "cell_type": "code",
   "execution_count": 178,
   "metadata": {},
   "outputs": [],
   "source": [
    "def pull_series_from_file(filepath):\n",
    "    df = pd.read_csv(filepath, header=2)\n",
    "    x = df\n",
    "    x['Timestamp'] = pd.to_datetime(x['Timestamp'],  format=\"%Y%m%d_%H%M%S%f\")\n",
    "    x = x.set_index('Timestamp')\n",
    "    # shift back to midnight to normalize series timestamps\n",
    "    norm_timedelta = x.index[0] - datetime(year=2019, month=2, day=27, hour=0, minute=0, second=0)\n",
    "    x.index = x.index - norm_timedelta\n",
    "    raw_gsr_column_name = list(x.columns)[-1]\n",
    "    return x[raw_gsr_column_name]"
   ]
  },
  {
   "cell_type": "markdown",
   "metadata": {},
   "source": [
    "## Questions"
   ]
  },
  {
   "cell_type": "markdown",
   "metadata": {},
   "source": [
    "Q: Are the files about the same length as each other?"
   ]
  },
  {
   "cell_type": "code",
   "execution_count": 185,
   "metadata": {},
   "outputs": [
    {
     "data": {
      "text/plain": [
       "Timedelta('0 days 00:11:21.596000')"
      ]
     },
     "execution_count": 185,
     "metadata": {},
     "output_type": "execute_result"
    }
   ],
   "source": [
    "s = pull_series_from_file('../../data/raw/GSR Audio Sensor Data- 9.3.19/D3S2-P1-92AB-A-272643.csv')\n",
    "s.index[-1] - s.index[0]"
   ]
  },
  {
   "cell_type": "code",
   "execution_count": 186,
   "metadata": {},
   "outputs": [
    {
     "data": {
      "text/plain": [
       "Timedelta('0 days 00:11:22.284000')"
      ]
     },
     "execution_count": 186,
     "metadata": {},
     "output_type": "execute_result"
    }
   ],
   "source": [
    "s = pull_series_from_file('../../data/raw/GSR Audio Sensor Data- 9.3.19/D6S2-P2-92B2-A-278553.csv')\n",
    "s.index[-1] - s.index[0]"
   ]
  },
  {
   "cell_type": "code",
   "execution_count": 187,
   "metadata": {},
   "outputs": [
    {
     "data": {
      "text/plain": [
       "Timedelta('0 days 00:11:21.831000')"
      ]
     },
     "execution_count": 187,
     "metadata": {},
     "output_type": "execute_result"
    }
   ],
   "source": [
    "s = pull_series_from_file('../../data/raw/GSR Audio Sensor Data- 9.3.19/D3S1-P2-92B2-A-367810.csv')\n",
    "s.index[-1] - s.index[0]"
   ]
  },
  {
   "cell_type": "markdown",
   "metadata": {},
   "source": [
    "A: Pretty good, seems like. Find the shortest series and take up to that duration for all the signals."
   ]
  },
  {
   "cell_type": "markdown",
   "metadata": {},
   "source": [
    "Q: Are the GSR samples strongly timed (evenly spaced in time)?"
   ]
  },
  {
   "cell_type": "code",
   "execution_count": 181,
   "metadata": {},
   "outputs": [
    {
     "data": {
      "text/plain": [
       "Timestamp\n",
       "2019-02-27 00:00:00.000    1.347229\n",
       "2019-02-27 00:00:00.001    1.347684\n",
       "2019-02-27 00:00:00.001    1.348140\n",
       "2019-02-27 00:00:00.024    1.347684\n",
       "2019-02-27 00:00:00.025    1.349052\n",
       "2019-02-27 00:00:00.050    1.348596\n",
       "2019-02-27 00:00:00.050    1.349508\n",
       "2019-02-27 00:00:00.052    1.348596\n",
       "2019-02-27 00:00:00.053    1.348596\n",
       "2019-02-27 00:00:00.075    1.348596\n",
       "Name: GSR CAL (µSiemens) (92AB), dtype: float64"
      ]
     },
     "execution_count": 181,
     "metadata": {},
     "output_type": "execute_result"
    }
   ],
   "source": [
    "s = pull_series_from_file('../../data/raw/GSR Audio Sensor Data- 9.3.19/D3S2-P1-92AB-A-272643.csv')\n",
    "s.head(10)"
   ]
  },
  {
   "cell_type": "code",
   "execution_count": 182,
   "metadata": {},
   "outputs": [
    {
     "data": {
      "text/plain": [
       "Timestamp\n",
       "2019-02-27 00:00:00.000    0.229607\n",
       "2019-02-27 00:00:00.024    0.230063\n",
       "2019-02-27 00:00:00.024    0.229151\n",
       "2019-02-27 00:00:00.025    0.230063\n",
       "2019-02-27 00:00:00.048    0.229607\n",
       "2019-02-27 00:00:00.050    0.230063\n",
       "2019-02-27 00:00:00.050    0.229607\n",
       "2019-02-27 00:00:00.051    0.229607\n",
       "2019-02-27 00:00:00.073    0.229151\n",
       "2019-02-27 00:00:00.074    0.230063\n",
       "Name: GSR CAL (µSiemens) (92B2), dtype: float64"
      ]
     },
     "execution_count": 182,
     "metadata": {},
     "output_type": "execute_result"
    }
   ],
   "source": [
    "s = pull_series_from_file('../../data/raw/GSR Audio Sensor Data- 9.3.19/D6S2-P2-92B2-A-278553.csv')\n",
    "s.head(10)"
   ]
  },
  {
   "cell_type": "code",
   "execution_count": 183,
   "metadata": {},
   "outputs": [
    {
     "data": {
      "text/plain": [
       "Timestamp\n",
       "2019-02-27 00:00:00.000    0.736912\n",
       "2019-02-27 00:00:00.002    0.729620\n",
       "2019-02-27 00:00:00.005    0.720504\n",
       "2019-02-27 00:00:00.005    0.713211\n",
       "2019-02-27 00:00:00.025    0.710932\n",
       "2019-02-27 00:00:00.026    0.710932\n",
       "2019-02-27 00:00:00.029    0.711843\n",
       "2019-02-27 00:00:00.029    0.713211\n",
       "2019-02-27 00:00:00.069    0.714122\n",
       "2019-02-27 00:00:00.071    0.714122\n",
       "Name: GSR CAL (µSiemens) (92B2), dtype: float64"
      ]
     },
     "execution_count": 183,
     "metadata": {},
     "output_type": "execute_result"
    }
   ],
   "source": [
    "s = pull_series_from_file('../../data/raw/GSR Audio Sensor Data- 9.3.19/D3S1-P2-92B2-A-367810.csv')\n",
    "s.head(10)"
   ]
  },
  {
   "cell_type": "markdown",
   "metadata": {},
   "source": [
    "A: The sampling rate is lumpy and not strongly timed. We'll need to interpolate to get an evenly spaced time series."
   ]
  }
 ],
 "metadata": {
  "kernelspec": {
   "display_name": "Python 3",
   "language": "python",
   "name": "python3"
  },
  "language_info": {
   "codemirror_mode": {
    "name": "ipython",
    "version": 3
   },
   "file_extension": ".py",
   "mimetype": "text/x-python",
   "name": "python",
   "nbconvert_exporter": "python",
   "pygments_lexer": "ipython3",
   "version": "3.7.4"
  }
 },
 "nbformat": 4,
 "nbformat_minor": 2
}
