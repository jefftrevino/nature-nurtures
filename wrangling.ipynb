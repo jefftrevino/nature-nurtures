{
 "cells": [
  {
   "cell_type": "markdown",
   "metadata": {},
   "source": [
    "# Wrangling"
   ]
  },
  {
   "cell_type": "markdown",
   "metadata": {},
   "source": [
    "## I. Labeling the GSR Deltas"
   ]
  },
  {
   "cell_type": "markdown",
   "metadata": {},
   "source": [
    "This notebook labels each second of each raw GSR stream as a 1 if it includes a peak or with a 0 if it doesn't."
   ]
  },
  {
   "cell_type": "code",
   "execution_count": 36,
   "metadata": {},
   "outputs": [],
   "source": [
    "from datetime import datetime, time, timedelta\n",
    "\n",
    "import glob\n",
    "import pandas as pd\n",
    "import numpy as np\n",
    "import matplotlib.pyplot as plt\n",
    "import seaborn as sns; sns.set()"
   ]
  },
  {
   "cell_type": "code",
   "execution_count": 37,
   "metadata": {},
   "outputs": [],
   "source": [
    "pd.set_option('display.max_rows', 500)"
   ]
  },
  {
   "cell_type": "code",
   "execution_count": 56,
   "metadata": {},
   "outputs": [],
   "source": [
    "sns.set_style('whitegrid')"
   ]
  },
  {
   "cell_type": "markdown",
   "metadata": {},
   "source": [
    "### Wrangle GSR Response Data"
   ]
  },
  {
   "cell_type": "code",
   "execution_count": 57,
   "metadata": {},
   "outputs": [],
   "source": [
    "gsr = pd.read_csv('../../data/intermediary/normedGSRaudioSensorData.csv', index_col='Timestamp')\n",
    "gsr.index = pd.to_datetime(gsr.index)"
   ]
  },
  {
   "cell_type": "code",
   "execution_count": 58,
   "metadata": {},
   "outputs": [
    {
     "data": {
      "text/plain": [
       "Index(['D5S2P2', 'D5S1P2', 'D7P1', 'D10P1', 'D4S1P2', 'D3S2P2', 'D6S2P1',\n",
       "       'D9S2P1', 'D8P2', 'D9S1P1', 'D4S2P2', 'D3S1P2', 'D6S1P1', 'D4S2P1',\n",
       "       'D3S1P1', 'D6S1P2', 'D9S1P2', 'D9S2P2', 'D8P1', 'D4S1P1', 'D3S2P1',\n",
       "       'D6S2P2', 'D7P2', 'D10P2', 'D5S1P1', 'D5S2P1'],\n",
       "      dtype='object')"
      ]
     },
     "execution_count": 58,
     "metadata": {},
     "output_type": "execute_result"
    }
   ],
   "source": [
    "gsr.columns"
   ]
  },
  {
   "cell_type": "code",
   "execution_count": 59,
   "metadata": {},
   "outputs": [
    {
     "data": {
      "text/plain": [
       "(6816, 26)"
      ]
     },
     "execution_count": 59,
     "metadata": {},
     "output_type": "execute_result"
    }
   ],
   "source": [
    "gsr.shape"
   ]
  },
  {
   "cell_type": "code",
   "execution_count": 60,
   "metadata": {},
   "outputs": [
    {
     "data": {
      "text/html": [
       "<div>\n",
       "<style scoped>\n",
       "    .dataframe tbody tr th:only-of-type {\n",
       "        vertical-align: middle;\n",
       "    }\n",
       "\n",
       "    .dataframe tbody tr th {\n",
       "        vertical-align: top;\n",
       "    }\n",
       "\n",
       "    .dataframe thead th {\n",
       "        text-align: right;\n",
       "    }\n",
       "</style>\n",
       "<table border=\"1\" class=\"dataframe\">\n",
       "  <thead>\n",
       "    <tr style=\"text-align: right;\">\n",
       "      <th></th>\n",
       "      <th>D5S2P2</th>\n",
       "      <th>D5S1P2</th>\n",
       "      <th>D7P1</th>\n",
       "      <th>D10P1</th>\n",
       "      <th>D4S1P2</th>\n",
       "      <th>D3S2P2</th>\n",
       "      <th>D6S2P1</th>\n",
       "      <th>D9S2P1</th>\n",
       "      <th>D8P2</th>\n",
       "      <th>D9S1P1</th>\n",
       "      <th>...</th>\n",
       "      <th>D9S1P2</th>\n",
       "      <th>D9S2P2</th>\n",
       "      <th>D8P1</th>\n",
       "      <th>D4S1P1</th>\n",
       "      <th>D3S2P1</th>\n",
       "      <th>D6S2P2</th>\n",
       "      <th>D7P2</th>\n",
       "      <th>D10P2</th>\n",
       "      <th>D5S1P1</th>\n",
       "      <th>D5S2P1</th>\n",
       "    </tr>\n",
       "    <tr>\n",
       "      <th>Timestamp</th>\n",
       "      <th></th>\n",
       "      <th></th>\n",
       "      <th></th>\n",
       "      <th></th>\n",
       "      <th></th>\n",
       "      <th></th>\n",
       "      <th></th>\n",
       "      <th></th>\n",
       "      <th></th>\n",
       "      <th></th>\n",
       "      <th></th>\n",
       "      <th></th>\n",
       "      <th></th>\n",
       "      <th></th>\n",
       "      <th></th>\n",
       "      <th></th>\n",
       "      <th></th>\n",
       "      <th></th>\n",
       "      <th></th>\n",
       "      <th></th>\n",
       "      <th></th>\n",
       "    </tr>\n",
       "  </thead>\n",
       "  <tbody>\n",
       "    <tr>\n",
       "      <th>2019-02-27 00:00:00.000</th>\n",
       "      <td>0.998752</td>\n",
       "      <td>0.991364</td>\n",
       "      <td>0.184426</td>\n",
       "      <td>0.000000</td>\n",
       "      <td>0.677947</td>\n",
       "      <td>0.996364</td>\n",
       "      <td>1.000000</td>\n",
       "      <td>1.000000</td>\n",
       "      <td>0.965902</td>\n",
       "      <td>0.923713</td>\n",
       "      <td>...</td>\n",
       "      <td>0.730392</td>\n",
       "      <td>0.242199</td>\n",
       "      <td>0.431274</td>\n",
       "      <td>0.730473</td>\n",
       "      <td>0.777923</td>\n",
       "      <td>0.000000</td>\n",
       "      <td>0.945385</td>\n",
       "      <td>0.398319</td>\n",
       "      <td>1.000000</td>\n",
       "      <td>0.996313</td>\n",
       "    </tr>\n",
       "    <tr>\n",
       "      <th>2019-02-27 00:00:00.100</th>\n",
       "      <td>0.998627</td>\n",
       "      <td>0.993130</td>\n",
       "      <td>0.183866</td>\n",
       "      <td>0.001657</td>\n",
       "      <td>0.713926</td>\n",
       "      <td>1.000000</td>\n",
       "      <td>0.995817</td>\n",
       "      <td>1.000000</td>\n",
       "      <td>0.965246</td>\n",
       "      <td>0.925213</td>\n",
       "      <td>...</td>\n",
       "      <td>0.742997</td>\n",
       "      <td>0.239585</td>\n",
       "      <td>0.428031</td>\n",
       "      <td>0.728946</td>\n",
       "      <td>0.779861</td>\n",
       "      <td>0.000000</td>\n",
       "      <td>0.940769</td>\n",
       "      <td>0.397899</td>\n",
       "      <td>0.999554</td>\n",
       "      <td>0.996108</td>\n",
       "    </tr>\n",
       "    <tr>\n",
       "      <th>2019-02-27 00:00:00.200</th>\n",
       "      <td>0.998502</td>\n",
       "      <td>0.994897</td>\n",
       "      <td>0.183306</td>\n",
       "      <td>0.003315</td>\n",
       "      <td>0.749905</td>\n",
       "      <td>0.998788</td>\n",
       "      <td>0.991633</td>\n",
       "      <td>1.000000</td>\n",
       "      <td>0.964918</td>\n",
       "      <td>0.926713</td>\n",
       "      <td>...</td>\n",
       "      <td>0.755602</td>\n",
       "      <td>0.236971</td>\n",
       "      <td>0.424788</td>\n",
       "      <td>0.727419</td>\n",
       "      <td>0.780829</td>\n",
       "      <td>0.000000</td>\n",
       "      <td>0.943846</td>\n",
       "      <td>0.409244</td>\n",
       "      <td>0.999108</td>\n",
       "      <td>0.995903</td>\n",
       "    </tr>\n",
       "    <tr>\n",
       "      <th>2019-02-27 00:00:00.300</th>\n",
       "      <td>0.998377</td>\n",
       "      <td>0.995010</td>\n",
       "      <td>0.182746</td>\n",
       "      <td>0.004972</td>\n",
       "      <td>0.726746</td>\n",
       "      <td>0.997576</td>\n",
       "      <td>0.988188</td>\n",
       "      <td>0.998311</td>\n",
       "      <td>0.964590</td>\n",
       "      <td>0.928214</td>\n",
       "      <td>...</td>\n",
       "      <td>0.768207</td>\n",
       "      <td>0.234618</td>\n",
       "      <td>0.421546</td>\n",
       "      <td>0.725892</td>\n",
       "      <td>0.781798</td>\n",
       "      <td>0.000762</td>\n",
       "      <td>0.945897</td>\n",
       "      <td>0.410924</td>\n",
       "      <td>0.998662</td>\n",
       "      <td>0.995699</td>\n",
       "    </tr>\n",
       "    <tr>\n",
       "      <th>2019-02-27 00:00:00.400</th>\n",
       "      <td>0.998252</td>\n",
       "      <td>0.995124</td>\n",
       "      <td>0.182185</td>\n",
       "      <td>0.006629</td>\n",
       "      <td>0.703587</td>\n",
       "      <td>0.996364</td>\n",
       "      <td>0.985432</td>\n",
       "      <td>0.996622</td>\n",
       "      <td>0.966448</td>\n",
       "      <td>0.929714</td>\n",
       "      <td>...</td>\n",
       "      <td>0.780812</td>\n",
       "      <td>0.232265</td>\n",
       "      <td>0.418303</td>\n",
       "      <td>0.724976</td>\n",
       "      <td>0.782767</td>\n",
       "      <td>0.000898</td>\n",
       "      <td>0.947949</td>\n",
       "      <td>0.411765</td>\n",
       "      <td>0.996877</td>\n",
       "      <td>0.995494</td>\n",
       "    </tr>\n",
       "  </tbody>\n",
       "</table>\n",
       "<p>5 rows × 26 columns</p>\n",
       "</div>"
      ],
      "text/plain": [
       "                           D5S2P2    D5S1P2      D7P1     D10P1    D4S1P2  \\\n",
       "Timestamp                                                                   \n",
       "2019-02-27 00:00:00.000  0.998752  0.991364  0.184426  0.000000  0.677947   \n",
       "2019-02-27 00:00:00.100  0.998627  0.993130  0.183866  0.001657  0.713926   \n",
       "2019-02-27 00:00:00.200  0.998502  0.994897  0.183306  0.003315  0.749905   \n",
       "2019-02-27 00:00:00.300  0.998377  0.995010  0.182746  0.004972  0.726746   \n",
       "2019-02-27 00:00:00.400  0.998252  0.995124  0.182185  0.006629  0.703587   \n",
       "\n",
       "                           D3S2P2    D6S2P1    D9S2P1      D8P2    D9S1P1  \\\n",
       "Timestamp                                                                   \n",
       "2019-02-27 00:00:00.000  0.996364  1.000000  1.000000  0.965902  0.923713   \n",
       "2019-02-27 00:00:00.100  1.000000  0.995817  1.000000  0.965246  0.925213   \n",
       "2019-02-27 00:00:00.200  0.998788  0.991633  1.000000  0.964918  0.926713   \n",
       "2019-02-27 00:00:00.300  0.997576  0.988188  0.998311  0.964590  0.928214   \n",
       "2019-02-27 00:00:00.400  0.996364  0.985432  0.996622  0.966448  0.929714   \n",
       "\n",
       "                         ...    D9S1P2    D9S2P2      D8P1    D4S1P1  \\\n",
       "Timestamp                ...                                           \n",
       "2019-02-27 00:00:00.000  ...  0.730392  0.242199  0.431274  0.730473   \n",
       "2019-02-27 00:00:00.100  ...  0.742997  0.239585  0.428031  0.728946   \n",
       "2019-02-27 00:00:00.200  ...  0.755602  0.236971  0.424788  0.727419   \n",
       "2019-02-27 00:00:00.300  ...  0.768207  0.234618  0.421546  0.725892   \n",
       "2019-02-27 00:00:00.400  ...  0.780812  0.232265  0.418303  0.724976   \n",
       "\n",
       "                           D3S2P1    D6S2P2      D7P2     D10P2    D5S1P1  \\\n",
       "Timestamp                                                                   \n",
       "2019-02-27 00:00:00.000  0.777923  0.000000  0.945385  0.398319  1.000000   \n",
       "2019-02-27 00:00:00.100  0.779861  0.000000  0.940769  0.397899  0.999554   \n",
       "2019-02-27 00:00:00.200  0.780829  0.000000  0.943846  0.409244  0.999108   \n",
       "2019-02-27 00:00:00.300  0.781798  0.000762  0.945897  0.410924  0.998662   \n",
       "2019-02-27 00:00:00.400  0.782767  0.000898  0.947949  0.411765  0.996877   \n",
       "\n",
       "                           D5S2P1  \n",
       "Timestamp                          \n",
       "2019-02-27 00:00:00.000  0.996313  \n",
       "2019-02-27 00:00:00.100  0.996108  \n",
       "2019-02-27 00:00:00.200  0.995903  \n",
       "2019-02-27 00:00:00.300  0.995699  \n",
       "2019-02-27 00:00:00.400  0.995494  \n",
       "\n",
       "[5 rows x 26 columns]"
      ]
     },
     "execution_count": 60,
     "metadata": {},
     "output_type": "execute_result"
    }
   ],
   "source": [
    "gsr.head()"
   ]
  },
  {
   "cell_type": "markdown",
   "metadata": {},
   "source": [
    "#### Normalize GSR Subject Names"
   ]
  },
  {
   "cell_type": "markdown",
   "metadata": {},
   "source": [
    "_\"The left person is always P2 (person 2), and they were always wearing the GSR device 92B2.\"_"
   ]
  },
  {
   "cell_type": "markdown",
   "metadata": {},
   "source": [
    "'D4S1P2',\n",
    " 'D6S1P2',\n",
    " 'D3S2P2',\n",
    " 'D10P2',\n",
    " 'D8P2',\n",
    " 'D9S2P2',\n",
    " 'D5S2P2',\n",
    " 'D9S1P2',\n",
    " 'D5S1P2',\n",
    " 'D7P2',\n",
    " 'D6S2P2',\n",
    " 'D3S1P2',\n",
    " 'D1D2P2',\n",
    " 'D4S2P2']"
   ]
  },
  {
   "cell_type": "code",
   "execution_count": 61,
   "metadata": {},
   "outputs": [
    {
     "data": {
      "text/plain": [
       "['D10P2',\n",
       " 'D3S1P2',\n",
       " 'D3S2P2',\n",
       " 'D4S1P2',\n",
       " 'D4S2P2',\n",
       " 'D5S1P2',\n",
       " 'D5S2P2',\n",
       " 'D6S1P2',\n",
       " 'D6S2P2',\n",
       " 'D7P2',\n",
       " 'D8P2',\n",
       " 'D9S1P2',\n",
       " 'D9S2P2']"
      ]
     },
     "execution_count": 61,
     "metadata": {},
     "output_type": "execute_result"
    }
   ],
   "source": [
    "keep_cols = [col for col in gsr.columns if 'P2' in col]\n",
    "sorted(keep_cols)"
   ]
  },
  {
   "cell_type": "code",
   "execution_count": 62,
   "metadata": {
    "scrolled": true
   },
   "outputs": [
    {
     "data": {
      "text/html": [
       "<div>\n",
       "<style scoped>\n",
       "    .dataframe tbody tr th:only-of-type {\n",
       "        vertical-align: middle;\n",
       "    }\n",
       "\n",
       "    .dataframe tbody tr th {\n",
       "        vertical-align: top;\n",
       "    }\n",
       "\n",
       "    .dataframe thead th {\n",
       "        text-align: right;\n",
       "    }\n",
       "</style>\n",
       "<table border=\"1\" class=\"dataframe\">\n",
       "  <thead>\n",
       "    <tr style=\"text-align: right;\">\n",
       "      <th></th>\n",
       "      <th>D5S2P2</th>\n",
       "      <th>D5S1P2</th>\n",
       "      <th>D4S1P2</th>\n",
       "      <th>D3S2P2</th>\n",
       "      <th>D8P2</th>\n",
       "      <th>D4S2P2</th>\n",
       "      <th>D3S1P2</th>\n",
       "      <th>D6S1P2</th>\n",
       "      <th>D9S1P2</th>\n",
       "      <th>D9S2P2</th>\n",
       "      <th>D6S2P2</th>\n",
       "      <th>D7P2</th>\n",
       "      <th>D10P2</th>\n",
       "    </tr>\n",
       "    <tr>\n",
       "      <th>Timestamp</th>\n",
       "      <th></th>\n",
       "      <th></th>\n",
       "      <th></th>\n",
       "      <th></th>\n",
       "      <th></th>\n",
       "      <th></th>\n",
       "      <th></th>\n",
       "      <th></th>\n",
       "      <th></th>\n",
       "      <th></th>\n",
       "      <th></th>\n",
       "      <th></th>\n",
       "      <th></th>\n",
       "    </tr>\n",
       "  </thead>\n",
       "  <tbody>\n",
       "    <tr>\n",
       "      <th>2019-02-27 00:00:00.000</th>\n",
       "      <td>0.998752</td>\n",
       "      <td>0.991364</td>\n",
       "      <td>0.677947</td>\n",
       "      <td>0.996364</td>\n",
       "      <td>0.965902</td>\n",
       "      <td>0.939030</td>\n",
       "      <td>0.631902</td>\n",
       "      <td>0.620892</td>\n",
       "      <td>0.730392</td>\n",
       "      <td>0.242199</td>\n",
       "      <td>0.000000</td>\n",
       "      <td>0.945385</td>\n",
       "      <td>0.398319</td>\n",
       "    </tr>\n",
       "    <tr>\n",
       "      <th>2019-02-27 00:00:00.100</th>\n",
       "      <td>0.998627</td>\n",
       "      <td>0.993130</td>\n",
       "      <td>0.713926</td>\n",
       "      <td>1.000000</td>\n",
       "      <td>0.965246</td>\n",
       "      <td>0.956861</td>\n",
       "      <td>0.649284</td>\n",
       "      <td>0.620305</td>\n",
       "      <td>0.742997</td>\n",
       "      <td>0.239585</td>\n",
       "      <td>0.000000</td>\n",
       "      <td>0.940769</td>\n",
       "      <td>0.397899</td>\n",
       "    </tr>\n",
       "    <tr>\n",
       "      <th>2019-02-27 00:00:00.200</th>\n",
       "      <td>0.998502</td>\n",
       "      <td>0.994897</td>\n",
       "      <td>0.749905</td>\n",
       "      <td>0.998788</td>\n",
       "      <td>0.964918</td>\n",
       "      <td>0.955136</td>\n",
       "      <td>0.666667</td>\n",
       "      <td>0.618545</td>\n",
       "      <td>0.755602</td>\n",
       "      <td>0.236971</td>\n",
       "      <td>0.000000</td>\n",
       "      <td>0.943846</td>\n",
       "      <td>0.409244</td>\n",
       "    </tr>\n",
       "    <tr>\n",
       "      <th>2019-02-27 00:00:00.300</th>\n",
       "      <td>0.998377</td>\n",
       "      <td>0.995010</td>\n",
       "      <td>0.726746</td>\n",
       "      <td>0.997576</td>\n",
       "      <td>0.964590</td>\n",
       "      <td>0.958203</td>\n",
       "      <td>0.684049</td>\n",
       "      <td>0.617371</td>\n",
       "      <td>0.768207</td>\n",
       "      <td>0.234618</td>\n",
       "      <td>0.000762</td>\n",
       "      <td>0.945897</td>\n",
       "      <td>0.410924</td>\n",
       "    </tr>\n",
       "    <tr>\n",
       "      <th>2019-02-27 00:00:00.400</th>\n",
       "      <td>0.998252</td>\n",
       "      <td>0.995124</td>\n",
       "      <td>0.703587</td>\n",
       "      <td>0.996364</td>\n",
       "      <td>0.966448</td>\n",
       "      <td>0.966639</td>\n",
       "      <td>0.677914</td>\n",
       "      <td>0.616197</td>\n",
       "      <td>0.780812</td>\n",
       "      <td>0.232265</td>\n",
       "      <td>0.000898</td>\n",
       "      <td>0.947949</td>\n",
       "      <td>0.411765</td>\n",
       "    </tr>\n",
       "  </tbody>\n",
       "</table>\n",
       "</div>"
      ],
      "text/plain": [
       "                           D5S2P2    D5S1P2    D4S1P2    D3S2P2      D8P2  \\\n",
       "Timestamp                                                                   \n",
       "2019-02-27 00:00:00.000  0.998752  0.991364  0.677947  0.996364  0.965902   \n",
       "2019-02-27 00:00:00.100  0.998627  0.993130  0.713926  1.000000  0.965246   \n",
       "2019-02-27 00:00:00.200  0.998502  0.994897  0.749905  0.998788  0.964918   \n",
       "2019-02-27 00:00:00.300  0.998377  0.995010  0.726746  0.997576  0.964590   \n",
       "2019-02-27 00:00:00.400  0.998252  0.995124  0.703587  0.996364  0.966448   \n",
       "\n",
       "                           D4S2P2    D3S1P2    D6S1P2    D9S1P2    D9S2P2  \\\n",
       "Timestamp                                                                   \n",
       "2019-02-27 00:00:00.000  0.939030  0.631902  0.620892  0.730392  0.242199   \n",
       "2019-02-27 00:00:00.100  0.956861  0.649284  0.620305  0.742997  0.239585   \n",
       "2019-02-27 00:00:00.200  0.955136  0.666667  0.618545  0.755602  0.236971   \n",
       "2019-02-27 00:00:00.300  0.958203  0.684049  0.617371  0.768207  0.234618   \n",
       "2019-02-27 00:00:00.400  0.966639  0.677914  0.616197  0.780812  0.232265   \n",
       "\n",
       "                           D6S2P2      D7P2     D10P2  \n",
       "Timestamp                                              \n",
       "2019-02-27 00:00:00.000  0.000000  0.945385  0.398319  \n",
       "2019-02-27 00:00:00.100  0.000000  0.940769  0.397899  \n",
       "2019-02-27 00:00:00.200  0.000000  0.943846  0.409244  \n",
       "2019-02-27 00:00:00.300  0.000762  0.945897  0.410924  \n",
       "2019-02-27 00:00:00.400  0.000898  0.947949  0.411765  "
      ]
     },
     "execution_count": 62,
     "metadata": {},
     "output_type": "execute_result"
    }
   ],
   "source": [
    "gsr = gsr[keep_cols]\n",
    "gsr.head()"
   ]
  },
  {
   "cell_type": "code",
   "execution_count": 63,
   "metadata": {},
   "outputs": [
    {
     "data": {
      "text/plain": [
       "<matplotlib.axes._subplots.AxesSubplot at 0x12f0d1a90>"
      ]
     },
     "execution_count": 63,
     "metadata": {},
     "output_type": "execute_result"
    },
    {
     "data": {
      "image/png": "[encoded data removed]",
      "text/plain": [
       "<Figure size 432x288 with 1 Axes>"
      ]
     },
     "metadata": {},
     "output_type": "display_data"
    }
   ],
   "source": [
    "gsr.plot()"
   ]
  },
  {
   "cell_type": "markdown",
   "metadata": {},
   "source": [
    "## Reinterpret GSR data as a Difference Series"
   ]
  },
  {
   "cell_type": "code",
   "execution_count": 66,
   "metadata": {},
   "outputs": [],
   "source": [
    "gsr = gsr.diff()"
   ]
  },
  {
   "cell_type": "code",
   "execution_count": 69,
   "metadata": {},
   "outputs": [
    {
     "data": {
      "text/plain": [
       "<matplotlib.axes._subplots.AxesSubplot at 0x134626a50>"
      ]
     },
     "execution_count": 69,
     "metadata": {},
     "output_type": "execute_result"
    },
    {
     "data": {
      "image/png": "[encoded data removed]",
      "text/plain": [
       "<Figure size 432x288 with 1 Axes>"
      ]
     },
     "metadata": {},
     "output_type": "display_data"
    }
   ],
   "source": [
    "\n",
    "gsr['D5S1P2'].plot()"
   ]
  },
  {
   "cell_type": "markdown",
   "metadata": {},
   "source": [
    "## Choose and Apply Delta Labeling Threshold for a Given Series"
   ]
  },
  {
   "cell_type": "code",
   "execution_count": 86,
   "metadata": {},
   "outputs": [],
   "source": [
    "def label_series(the_series, threshold):\n",
    "    labeled_series = pd.DataFrame(the_series)\n",
    "    labeled_series['label'] = np.where(the_series > threshold, 1, 0)\n",
    "    return labeled_series"
   ]
  },
  {
   "cell_type": "code",
   "execution_count": 87,
   "metadata": {},
   "outputs": [
    {
     "data": {
      "text/html": [
       "<div>\n",
       "<style scoped>\n",
       "    .dataframe tbody tr th:only-of-type {\n",
       "        vertical-align: middle;\n",
       "    }\n",
       "\n",
       "    .dataframe tbody tr th {\n",
       "        vertical-align: top;\n",
       "    }\n",
       "\n",
       "    .dataframe thead th {\n",
       "        text-align: right;\n",
       "    }\n",
       "</style>\n",
       "<table border=\"1\" class=\"dataframe\">\n",
       "  <thead>\n",
       "    <tr style=\"text-align: right;\">\n",
       "      <th></th>\n",
       "      <th>D5S1P2</th>\n",
       "      <th>label</th>\n",
       "    </tr>\n",
       "    <tr>\n",
       "      <th>Timestamp</th>\n",
       "      <th></th>\n",
       "      <th></th>\n",
       "    </tr>\n",
       "  </thead>\n",
       "  <tbody>\n",
       "    <tr>\n",
       "      <th>2019-02-27 00:00:00.000</th>\n",
       "      <td>NaN</td>\n",
       "      <td>0</td>\n",
       "    </tr>\n",
       "    <tr>\n",
       "      <th>2019-02-27 00:00:00.100</th>\n",
       "      <td>NaN</td>\n",
       "      <td>0</td>\n",
       "    </tr>\n",
       "    <tr>\n",
       "      <th>2019-02-27 00:00:00.200</th>\n",
       "      <td>-5.551115e-16</td>\n",
       "      <td>0</td>\n",
       "    </tr>\n",
       "    <tr>\n",
       "      <th>2019-02-27 00:00:00.300</th>\n",
       "      <td>-1.653061e-03</td>\n",
       "      <td>0</td>\n",
       "    </tr>\n",
       "    <tr>\n",
       "      <th>2019-02-27 00:00:00.400</th>\n",
       "      <td>2.220446e-16</td>\n",
       "      <td>0</td>\n",
       "    </tr>\n",
       "  </tbody>\n",
       "</table>\n",
       "</div>"
      ],
      "text/plain": [
       "                               D5S1P2  label\n",
       "Timestamp                                   \n",
       "2019-02-27 00:00:00.000           NaN      0\n",
       "2019-02-27 00:00:00.100           NaN      0\n",
       "2019-02-27 00:00:00.200 -5.551115e-16      0\n",
       "2019-02-27 00:00:00.300 -1.653061e-03      0\n",
       "2019-02-27 00:00:00.400  2.220446e-16      0"
      ]
     },
     "execution_count": 87,
     "metadata": {},
     "output_type": "execute_result"
    }
   ],
   "source": [
    "s = gsr['D5S1P2']\n",
    "df = label_series(s, 0.002)\n",
    "df.head()"
   ]
  },
  {
   "cell_type": "code",
   "execution_count": 89,
   "metadata": {},
   "outputs": [
    {
     "data": {
      "text/html": [
       "<div>\n",
       "<style scoped>\n",
       "    .dataframe tbody tr th:only-of-type {\n",
       "        vertical-align: middle;\n",
       "    }\n",
       "\n",
       "    .dataframe tbody tr th {\n",
       "        vertical-align: top;\n",
       "    }\n",
       "\n",
       "    .dataframe thead th {\n",
       "        text-align: right;\n",
       "    }\n",
       "</style>\n",
       "<table border=\"1\" class=\"dataframe\">\n",
       "  <thead>\n",
       "    <tr style=\"text-align: right;\">\n",
       "      <th></th>\n",
       "      <th>D5S1P2</th>\n",
       "      <th>label</th>\n",
       "    </tr>\n",
       "    <tr>\n",
       "      <th>Timestamp</th>\n",
       "      <th></th>\n",
       "      <th></th>\n",
       "    </tr>\n",
       "  </thead>\n",
       "  <tbody>\n",
       "    <tr>\n",
       "      <th>2019-02-27 00:00:13.700</th>\n",
       "      <td>0.008047</td>\n",
       "      <td>1</td>\n",
       "    </tr>\n",
       "    <tr>\n",
       "      <th>2019-02-27 00:00:21.100</th>\n",
       "      <td>0.003445</td>\n",
       "      <td>1</td>\n",
       "    </tr>\n",
       "    <tr>\n",
       "      <th>2019-02-27 00:00:26.000</th>\n",
       "      <td>0.006481</td>\n",
       "      <td>1</td>\n",
       "    </tr>\n",
       "    <tr>\n",
       "      <th>2019-02-27 00:00:27.300</th>\n",
       "      <td>0.002810</td>\n",
       "      <td>1</td>\n",
       "    </tr>\n",
       "    <tr>\n",
       "      <th>2019-02-27 00:00:45.200</th>\n",
       "      <td>0.002355</td>\n",
       "      <td>1</td>\n",
       "    </tr>\n",
       "  </tbody>\n",
       "</table>\n",
       "</div>"
      ],
      "text/plain": [
       "                           D5S1P2  label\n",
       "Timestamp                               \n",
       "2019-02-27 00:00:13.700  0.008047      1\n",
       "2019-02-27 00:00:21.100  0.003445      1\n",
       "2019-02-27 00:00:26.000  0.006481      1\n",
       "2019-02-27 00:00:27.300  0.002810      1\n",
       "2019-02-27 00:00:45.200  0.002355      1"
      ]
     },
     "execution_count": 89,
     "metadata": {},
     "output_type": "execute_result"
    }
   ],
   "source": [
    "df[df['label'] == 1].head()"
   ]
  },
  {
   "cell_type": "code",
   "execution_count": 91,
   "metadata": {},
   "outputs": [
    {
     "data": {
      "text/html": [
       "<div>\n",
       "<style scoped>\n",
       "    .dataframe tbody tr th:only-of-type {\n",
       "        vertical-align: middle;\n",
       "    }\n",
       "\n",
       "    .dataframe tbody tr th {\n",
       "        vertical-align: top;\n",
       "    }\n",
       "\n",
       "    .dataframe thead th {\n",
       "        text-align: right;\n",
       "    }\n",
       "</style>\n",
       "<table border=\"1\" class=\"dataframe\">\n",
       "  <thead>\n",
       "    <tr style=\"text-align: right;\">\n",
       "      <th></th>\n",
       "      <th>D5S1P2</th>\n",
       "      <th>label</th>\n",
       "    </tr>\n",
       "    <tr>\n",
       "      <th>Timestamp</th>\n",
       "      <th></th>\n",
       "      <th></th>\n",
       "    </tr>\n",
       "  </thead>\n",
       "  <tbody>\n",
       "    <tr>\n",
       "      <th>2019-02-27 00:11:21.100</th>\n",
       "      <td>0.0</td>\n",
       "      <td>0</td>\n",
       "    </tr>\n",
       "    <tr>\n",
       "      <th>2019-02-27 00:11:21.200</th>\n",
       "      <td>0.0</td>\n",
       "      <td>0</td>\n",
       "    </tr>\n",
       "    <tr>\n",
       "      <th>2019-02-27 00:11:21.300</th>\n",
       "      <td>0.0</td>\n",
       "      <td>0</td>\n",
       "    </tr>\n",
       "    <tr>\n",
       "      <th>2019-02-27 00:11:21.400</th>\n",
       "      <td>0.0</td>\n",
       "      <td>0</td>\n",
       "    </tr>\n",
       "    <tr>\n",
       "      <th>2019-02-27 00:11:21.500</th>\n",
       "      <td>0.0</td>\n",
       "      <td>0</td>\n",
       "    </tr>\n",
       "  </tbody>\n",
       "</table>\n",
       "</div>"
      ],
      "text/plain": [
       "                         D5S1P2  label\n",
       "Timestamp                             \n",
       "2019-02-27 00:11:21.100     0.0      0\n",
       "2019-02-27 00:11:21.200     0.0      0\n",
       "2019-02-27 00:11:21.300     0.0      0\n",
       "2019-02-27 00:11:21.400     0.0      0\n",
       "2019-02-27 00:11:21.500     0.0      0"
      ]
     },
     "execution_count": 91,
     "metadata": {},
     "output_type": "execute_result"
    }
   ],
   "source": [
    "df.tail()"
   ]
  },
  {
   "cell_type": "markdown",
   "metadata": {},
   "source": [
    "## II. Import Audio Features as DataFrame"
   ]
  },
  {
   "cell_type": "code",
   "execution_count": null,
   "metadata": {},
   "outputs": [],
   "source": []
  }
 ],
 "metadata": {
  "kernelspec": {
   "display_name": "Python 3",
   "language": "python",
   "name": "python3"
  },
  "language_info": {
   "codemirror_mode": {
    "name": "ipython",
    "version": 3
   },
   "file_extension": ".py",
   "mimetype": "text/x-python",
   "name": "python",
   "nbconvert_exporter": "python",
   "pygments_lexer": "ipython3",
   "version": "3.7.4"
  }
 },
 "nbformat": 4,
 "nbformat_minor": 2
}
