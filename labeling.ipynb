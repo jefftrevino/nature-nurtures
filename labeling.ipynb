{
 "cells": [
  {
   "cell_type": "markdown",
   "metadata": {},
   "source": [
    "# Labeling the Data"
   ]
  },
  {
   "cell_type": "markdown",
   "metadata": {},
   "source": [
    "This notebook labels each second of each raw GSR stream as a 1 if it includes a peak or with a 0 if it doesn't."
   ]
  },
  {
   "cell_type": "code",
   "execution_count": 36,
   "metadata": {},
   "outputs": [],
   "source": [
    "from datetime import datetime, time, timedelta\n",
    "\n",
    "import glob\n",
    "import pandas as pd\n",
    "import numpy as np\n",
    "import matplotlib.pyplot as plt\n",
    "import seaborn as sns; sns.set()"
   ]
  },
  {
   "cell_type": "code",
   "execution_count": 37,
   "metadata": {},
   "outputs": [],
   "source": [
    "pd.set_option('display.max_rows', 500)"
   ]
  },
  {
   "cell_type": "markdown",
   "metadata": {},
   "source": [
    "# Get Peak Data"
   ]
  },
  {
   "cell_type": "code",
   "execution_count": 252,
   "metadata": {},
   "outputs": [],
   "source": [
    "def preprocess_frame(df):\n",
    "    return df.drop(columns=['AlgorithmName', 'Respondent', 'Markers'])\n",
    "\n",
    "def ingest_dir_as_dataframes(the_dir):\n",
    "    '''\n",
    "    ingests a directory of .csv files and returns them as a list of dataframes\n",
    "    '''\n",
    "    path = the_dir\n",
    "    all_files = glob.glob(path + \"/*.txt\")\n",
    "    the_frames = []\n",
    "    for filename in all_files:\n",
    "        df = pd.read_csv(filename, index_col=None, sep='\\t')\n",
    "        df = preprocess_frame(df)\n",
    "        the_frames.append(df)\n",
    "    return the_frames"
   ]
  },
  {
   "cell_type": "code",
   "execution_count": 253,
   "metadata": {
    "scrolled": true
   },
   "outputs": [
    {
     "data": {
      "text/html": [
       "<div>\n",
       "<style scoped>\n",
       "    .dataframe tbody tr th:only-of-type {\n",
       "        vertical-align: middle;\n",
       "    }\n",
       "\n",
       "    .dataframe tbody tr th {\n",
       "        vertical-align: top;\n",
       "    }\n",
       "\n",
       "    .dataframe thead th {\n",
       "        text-align: right;\n",
       "    }\n",
       "</style>\n",
       "<table border=\"1\" class=\"dataframe\">\n",
       "  <thead>\n",
       "    <tr style=\"text-align: right;\">\n",
       "      <th></th>\n",
       "      <th>Segmentation</th>\n",
       "      <th>Stimulus</th>\n",
       "      <th>OnsetMs</th>\n",
       "      <th>PeakMs</th>\n",
       "      <th>OffsetMs</th>\n",
       "      <th>Amplitude</th>\n",
       "      <th>StimulusPeakSequenceNr</th>\n",
       "      <th>Unnamed: 10</th>\n",
       "      <th>TotalPeakSequenceNr</th>\n",
       "      <th>Unnamed: 11</th>\n",
       "    </tr>\n",
       "  </thead>\n",
       "  <tbody>\n",
       "    <tr>\n",
       "      <th>0</th>\n",
       "      <td>D4S1</td>\n",
       "      <td>Forest</td>\n",
       "      <td>18461</td>\n",
       "      <td>20575</td>\n",
       "      <td>23759</td>\n",
       "      <td>0.4680</td>\n",
       "      <td>1</td>\n",
       "      <td>0.111429</td>\n",
       "      <td>NaN</td>\n",
       "      <td>NaN</td>\n",
       "    </tr>\n",
       "    <tr>\n",
       "      <th>1</th>\n",
       "      <td>D4S1</td>\n",
       "      <td>Forest</td>\n",
       "      <td>30715</td>\n",
       "      <td>31495</td>\n",
       "      <td>32992</td>\n",
       "      <td>0.0600</td>\n",
       "      <td>2</td>\n",
       "      <td>NaN</td>\n",
       "      <td>NaN</td>\n",
       "      <td>NaN</td>\n",
       "    </tr>\n",
       "    <tr>\n",
       "      <th>2</th>\n",
       "      <td>D4S1</td>\n",
       "      <td>Forest</td>\n",
       "      <td>35438</td>\n",
       "      <td>35886</td>\n",
       "      <td>38369</td>\n",
       "      <td>0.0165</td>\n",
       "      <td>3</td>\n",
       "      <td>NaN</td>\n",
       "      <td>NaN</td>\n",
       "      <td>NaN</td>\n",
       "    </tr>\n",
       "    <tr>\n",
       "      <th>3</th>\n",
       "      <td>D4S1</td>\n",
       "      <td>Forest</td>\n",
       "      <td>51013</td>\n",
       "      <td>53057</td>\n",
       "      <td>55676</td>\n",
       "      <td>0.1035</td>\n",
       "      <td>4</td>\n",
       "      <td>NaN</td>\n",
       "      <td>NaN</td>\n",
       "      <td>NaN</td>\n",
       "    </tr>\n",
       "    <tr>\n",
       "      <th>4</th>\n",
       "      <td>D4S1</td>\n",
       "      <td>Forest</td>\n",
       "      <td>114536</td>\n",
       "      <td>115738</td>\n",
       "      <td>120750</td>\n",
       "      <td>0.0210</td>\n",
       "      <td>5</td>\n",
       "      <td>NaN</td>\n",
       "      <td>NaN</td>\n",
       "      <td>NaN</td>\n",
       "    </tr>\n",
       "  </tbody>\n",
       "</table>\n",
       "</div>"
      ],
      "text/plain": [
       "  Segmentation Stimulus  OnsetMs  PeakMs  OffsetMs  Amplitude  \\\n",
       "0         D4S1   Forest    18461   20575     23759     0.4680   \n",
       "1         D4S1   Forest    30715   31495     32992     0.0600   \n",
       "2         D4S1   Forest    35438   35886     38369     0.0165   \n",
       "3         D4S1   Forest    51013   53057     55676     0.1035   \n",
       "4         D4S1   Forest   114536  115738    120750     0.0210   \n",
       "\n",
       "   StimulusPeakSequenceNr  Unnamed: 10  TotalPeakSequenceNr  Unnamed: 11  \n",
       "0                       1     0.111429                  NaN          NaN  \n",
       "1                       2          NaN                  NaN          NaN  \n",
       "2                       3          NaN                  NaN          NaN  \n",
       "3                       4          NaN                  NaN          NaN  \n",
       "4                       5          NaN                  NaN          NaN  "
      ]
     },
     "execution_count": 253,
     "metadata": {},
     "output_type": "execute_result"
    }
   ],
   "source": [
    "frames = ingest_dir_as_dataframes('../../data/raw/Peaks/GSRPeaks/')\n",
    "peaks = pd.concat(frames)\n",
    "peaks.head()"
   ]
  },
  {
   "cell_type": "markdown",
   "metadata": {},
   "source": [
    "## Cleaning"
   ]
  },
  {
   "cell_type": "markdown",
   "metadata": {},
   "source": [
    "Discard corrupted D1D2 data."
   ]
  },
  {
   "cell_type": "code",
   "execution_count": 254,
   "metadata": {},
   "outputs": [],
   "source": [
    "peaks = peaks[peaks['Segmentation'] != 'D1D2']"
   ]
  },
  {
   "cell_type": "markdown",
   "metadata": {},
   "source": [
    "## Wrangling"
   ]
  },
  {
   "cell_type": "code",
   "execution_count": 255,
   "metadata": {},
   "outputs": [
    {
     "data": {
      "text/html": [
       "<div>\n",
       "<style scoped>\n",
       "    .dataframe tbody tr th:only-of-type {\n",
       "        vertical-align: middle;\n",
       "    }\n",
       "\n",
       "    .dataframe tbody tr th {\n",
       "        vertical-align: top;\n",
       "    }\n",
       "\n",
       "    .dataframe thead th {\n",
       "        text-align: right;\n",
       "    }\n",
       "</style>\n",
       "<table border=\"1\" class=\"dataframe\">\n",
       "  <thead>\n",
       "    <tr style=\"text-align: right;\">\n",
       "      <th></th>\n",
       "      <th>Segmentation</th>\n",
       "      <th>Stimulus</th>\n",
       "      <th>OnsetMs</th>\n",
       "      <th>PeakMs</th>\n",
       "      <th>OffsetMs</th>\n",
       "      <th>Amplitude</th>\n",
       "      <th>StimulusPeakSequenceNr</th>\n",
       "      <th>Unnamed: 10</th>\n",
       "      <th>TotalPeakSequenceNr</th>\n",
       "      <th>Unnamed: 11</th>\n",
       "    </tr>\n",
       "  </thead>\n",
       "  <tbody>\n",
       "    <tr>\n",
       "      <th>0</th>\n",
       "      <td>D4S1P2</td>\n",
       "      <td>Forest</td>\n",
       "      <td>18461</td>\n",
       "      <td>20575</td>\n",
       "      <td>23759</td>\n",
       "      <td>0.4680</td>\n",
       "      <td>1</td>\n",
       "      <td>0.111429</td>\n",
       "      <td>NaN</td>\n",
       "      <td>NaN</td>\n",
       "    </tr>\n",
       "    <tr>\n",
       "      <th>1</th>\n",
       "      <td>D4S1P2</td>\n",
       "      <td>Forest</td>\n",
       "      <td>30715</td>\n",
       "      <td>31495</td>\n",
       "      <td>32992</td>\n",
       "      <td>0.0600</td>\n",
       "      <td>2</td>\n",
       "      <td>NaN</td>\n",
       "      <td>NaN</td>\n",
       "      <td>NaN</td>\n",
       "    </tr>\n",
       "    <tr>\n",
       "      <th>2</th>\n",
       "      <td>D4S1P2</td>\n",
       "      <td>Forest</td>\n",
       "      <td>35438</td>\n",
       "      <td>35886</td>\n",
       "      <td>38369</td>\n",
       "      <td>0.0165</td>\n",
       "      <td>3</td>\n",
       "      <td>NaN</td>\n",
       "      <td>NaN</td>\n",
       "      <td>NaN</td>\n",
       "    </tr>\n",
       "    <tr>\n",
       "      <th>3</th>\n",
       "      <td>D4S1P2</td>\n",
       "      <td>Forest</td>\n",
       "      <td>51013</td>\n",
       "      <td>53057</td>\n",
       "      <td>55676</td>\n",
       "      <td>0.1035</td>\n",
       "      <td>4</td>\n",
       "      <td>NaN</td>\n",
       "      <td>NaN</td>\n",
       "      <td>NaN</td>\n",
       "    </tr>\n",
       "    <tr>\n",
       "      <th>4</th>\n",
       "      <td>D4S1P2</td>\n",
       "      <td>Forest</td>\n",
       "      <td>114536</td>\n",
       "      <td>115738</td>\n",
       "      <td>120750</td>\n",
       "      <td>0.0210</td>\n",
       "      <td>5</td>\n",
       "      <td>NaN</td>\n",
       "      <td>NaN</td>\n",
       "      <td>NaN</td>\n",
       "    </tr>\n",
       "  </tbody>\n",
       "</table>\n",
       "</div>"
      ],
      "text/plain": [
       "  Segmentation Stimulus  OnsetMs  PeakMs  OffsetMs  Amplitude  \\\n",
       "0       D4S1P2   Forest    18461   20575     23759     0.4680   \n",
       "1       D4S1P2   Forest    30715   31495     32992     0.0600   \n",
       "2       D4S1P2   Forest    35438   35886     38369     0.0165   \n",
       "3       D4S1P2   Forest    51013   53057     55676     0.1035   \n",
       "4       D4S1P2   Forest   114536  115738    120750     0.0210   \n",
       "\n",
       "   StimulusPeakSequenceNr  Unnamed: 10  TotalPeakSequenceNr  Unnamed: 11  \n",
       "0                       1     0.111429                  NaN          NaN  \n",
       "1                       2          NaN                  NaN          NaN  \n",
       "2                       3          NaN                  NaN          NaN  \n",
       "3                       4          NaN                  NaN          NaN  \n",
       "4                       5          NaN                  NaN          NaN  "
      ]
     },
     "execution_count": 255,
     "metadata": {},
     "output_type": "execute_result"
    }
   ],
   "source": [
    "# align peak col names with GSR col names\n",
    "peaks['Segmentation'] = peaks['Segmentation'].apply(lambda x: x + 'P2')\n",
    "peaks.head()"
   ]
  },
  {
   "cell_type": "code",
   "execution_count": 256,
   "metadata": {
    "scrolled": true
   },
   "outputs": [],
   "source": [
    "peaks = peaks.replace('1 37988', '37988')"
   ]
  },
  {
   "cell_type": "code",
   "execution_count": 257,
   "metadata": {},
   "outputs": [],
   "source": [
    "peaks['PeakMs'] = peaks['PeakMs'].astype(int)\n",
    "peaks = peaks[peaks['PeakMs'] >= 0 ]"
   ]
  },
  {
   "cell_type": "code",
   "execution_count": 258,
   "metadata": {},
   "outputs": [
    {
     "name": "stdout",
     "output_type": "stream",
     "text": [
      "Stream\n",
      "Ocean\n",
      "Mountain\n",
      "Forest\n"
     ]
    }
   ],
   "source": [
    "biomes = {}\n",
    "for biome in ['Stream', 'Ocean', 'Mountain', 'Forest']:\n",
    "    print(biome)\n",
    "    biome_df = peaks[peaks['Stimulus'] == biome]\n",
    "    biome_df = biome_df.set_index('PeakMs').sort_index()\n",
    "    biomes[biome] = biome_df"
   ]
  },
  {
   "cell_type": "markdown",
   "metadata": {},
   "source": [
    "### convert peakMs to Python datetime"
   ]
  },
  {
   "cell_type": "code",
   "execution_count": 259,
   "metadata": {},
   "outputs": [],
   "source": [
    "peaks['PeakMs'] = pd.to_datetime(peaks['PeakMs'])"
   ]
  },
  {
   "cell_type": "code",
   "execution_count": 260,
   "metadata": {},
   "outputs": [
    {
     "data": {
      "text/html": [
       "<div>\n",
       "<style scoped>\n",
       "    .dataframe tbody tr th:only-of-type {\n",
       "        vertical-align: middle;\n",
       "    }\n",
       "\n",
       "    .dataframe tbody tr th {\n",
       "        vertical-align: top;\n",
       "    }\n",
       "\n",
       "    .dataframe thead th {\n",
       "        text-align: right;\n",
       "    }\n",
       "</style>\n",
       "<table border=\"1\" class=\"dataframe\">\n",
       "  <thead>\n",
       "    <tr style=\"text-align: right;\">\n",
       "      <th></th>\n",
       "      <th>Segmentation</th>\n",
       "      <th>Stimulus</th>\n",
       "      <th>OnsetMs</th>\n",
       "      <th>PeakMs</th>\n",
       "      <th>OffsetMs</th>\n",
       "      <th>Amplitude</th>\n",
       "      <th>StimulusPeakSequenceNr</th>\n",
       "      <th>Unnamed: 10</th>\n",
       "      <th>TotalPeakSequenceNr</th>\n",
       "      <th>Unnamed: 11</th>\n",
       "    </tr>\n",
       "  </thead>\n",
       "  <tbody>\n",
       "    <tr>\n",
       "      <th>0</th>\n",
       "      <td>D4S1P2</td>\n",
       "      <td>Forest</td>\n",
       "      <td>18461</td>\n",
       "      <td>1970-01-01 00:00:00.000020575</td>\n",
       "      <td>23759</td>\n",
       "      <td>0.4680</td>\n",
       "      <td>1</td>\n",
       "      <td>0.111429</td>\n",
       "      <td>NaN</td>\n",
       "      <td>NaN</td>\n",
       "    </tr>\n",
       "    <tr>\n",
       "      <th>1</th>\n",
       "      <td>D4S1P2</td>\n",
       "      <td>Forest</td>\n",
       "      <td>30715</td>\n",
       "      <td>1970-01-01 00:00:00.000031495</td>\n",
       "      <td>32992</td>\n",
       "      <td>0.0600</td>\n",
       "      <td>2</td>\n",
       "      <td>NaN</td>\n",
       "      <td>NaN</td>\n",
       "      <td>NaN</td>\n",
       "    </tr>\n",
       "    <tr>\n",
       "      <th>2</th>\n",
       "      <td>D4S1P2</td>\n",
       "      <td>Forest</td>\n",
       "      <td>35438</td>\n",
       "      <td>1970-01-01 00:00:00.000035886</td>\n",
       "      <td>38369</td>\n",
       "      <td>0.0165</td>\n",
       "      <td>3</td>\n",
       "      <td>NaN</td>\n",
       "      <td>NaN</td>\n",
       "      <td>NaN</td>\n",
       "    </tr>\n",
       "    <tr>\n",
       "      <th>3</th>\n",
       "      <td>D4S1P2</td>\n",
       "      <td>Forest</td>\n",
       "      <td>51013</td>\n",
       "      <td>1970-01-01 00:00:00.000053057</td>\n",
       "      <td>55676</td>\n",
       "      <td>0.1035</td>\n",
       "      <td>4</td>\n",
       "      <td>NaN</td>\n",
       "      <td>NaN</td>\n",
       "      <td>NaN</td>\n",
       "    </tr>\n",
       "    <tr>\n",
       "      <th>4</th>\n",
       "      <td>D4S1P2</td>\n",
       "      <td>Forest</td>\n",
       "      <td>114536</td>\n",
       "      <td>1970-01-01 00:00:00.000115738</td>\n",
       "      <td>120750</td>\n",
       "      <td>0.0210</td>\n",
       "      <td>5</td>\n",
       "      <td>NaN</td>\n",
       "      <td>NaN</td>\n",
       "      <td>NaN</td>\n",
       "    </tr>\n",
       "  </tbody>\n",
       "</table>\n",
       "</div>"
      ],
      "text/plain": [
       "  Segmentation Stimulus  OnsetMs                        PeakMs  OffsetMs  \\\n",
       "0       D4S1P2   Forest    18461 1970-01-01 00:00:00.000020575     23759   \n",
       "1       D4S1P2   Forest    30715 1970-01-01 00:00:00.000031495     32992   \n",
       "2       D4S1P2   Forest    35438 1970-01-01 00:00:00.000035886     38369   \n",
       "3       D4S1P2   Forest    51013 1970-01-01 00:00:00.000053057     55676   \n",
       "4       D4S1P2   Forest   114536 1970-01-01 00:00:00.000115738    120750   \n",
       "\n",
       "   Amplitude  StimulusPeakSequenceNr  Unnamed: 10  TotalPeakSequenceNr  \\\n",
       "0     0.4680                       1     0.111429                  NaN   \n",
       "1     0.0600                       2          NaN                  NaN   \n",
       "2     0.0165                       3          NaN                  NaN   \n",
       "3     0.1035                       4          NaN                  NaN   \n",
       "4     0.0210                       5          NaN                  NaN   \n",
       "\n",
       "   Unnamed: 11  \n",
       "0          NaN  \n",
       "1          NaN  \n",
       "2          NaN  \n",
       "3          NaN  \n",
       "4          NaN  "
      ]
     },
     "execution_count": 260,
     "metadata": {},
     "output_type": "execute_result"
    }
   ],
   "source": [
    "peaks.head()"
   ]
  },
  {
   "cell_type": "markdown",
   "metadata": {},
   "source": [
    "### Wrangle GSR Response Data"
   ]
  },
  {
   "cell_type": "code",
   "execution_count": 261,
   "metadata": {},
   "outputs": [],
   "source": [
    "gsr = pd.read_csv('../../data/intermediary/normedGSRaudioSensorData.csv', index_col='Timestamp')\n",
    "gsr.index = pd.to_datetime(gsr.index)"
   ]
  },
  {
   "cell_type": "code",
   "execution_count": 262,
   "metadata": {},
   "outputs": [
    {
     "data": {
      "text/plain": [
       "Index(['D5S2P2', 'D5S1P2', 'D7P1', 'D10P1', 'D4S1P2', 'D3S2P2', 'D6S2P1',\n",
       "       'D9S2P1', 'D8P2', 'D9S1P1', 'D4S2P2', 'D3S1P2', 'D6S1P1', 'D4S2P1',\n",
       "       'D3S1P1', 'D6S1P2', 'D9S1P2', 'D9S2P2', 'D8P1', 'D4S1P1', 'D3S2P1',\n",
       "       'D6S2P2', 'D7P2', 'D10P2', 'D5S1P1', 'D5S2P1'],\n",
       "      dtype='object')"
      ]
     },
     "execution_count": 262,
     "metadata": {},
     "output_type": "execute_result"
    }
   ],
   "source": [
    "gsr.columns"
   ]
  },
  {
   "cell_type": "code",
   "execution_count": 263,
   "metadata": {},
   "outputs": [
    {
     "data": {
      "text/plain": [
       "(27261, 26)"
      ]
     },
     "execution_count": 263,
     "metadata": {},
     "output_type": "execute_result"
    }
   ],
   "source": [
    "gsr.shape"
   ]
  },
  {
   "cell_type": "code",
   "execution_count": 264,
   "metadata": {},
   "outputs": [
    {
     "data": {
      "text/html": [
       "<div>\n",
       "<style scoped>\n",
       "    .dataframe tbody tr th:only-of-type {\n",
       "        vertical-align: middle;\n",
       "    }\n",
       "\n",
       "    .dataframe tbody tr th {\n",
       "        vertical-align: top;\n",
       "    }\n",
       "\n",
       "    .dataframe thead th {\n",
       "        text-align: right;\n",
       "    }\n",
       "</style>\n",
       "<table border=\"1\" class=\"dataframe\">\n",
       "  <thead>\n",
       "    <tr style=\"text-align: right;\">\n",
       "      <th></th>\n",
       "      <th>D5S2P2</th>\n",
       "      <th>D5S1P2</th>\n",
       "      <th>D7P1</th>\n",
       "      <th>D10P1</th>\n",
       "      <th>D4S1P2</th>\n",
       "      <th>D3S2P2</th>\n",
       "      <th>D6S2P1</th>\n",
       "      <th>D9S2P1</th>\n",
       "      <th>D8P2</th>\n",
       "      <th>D9S1P1</th>\n",
       "      <th>...</th>\n",
       "      <th>D9S1P2</th>\n",
       "      <th>D9S2P2</th>\n",
       "      <th>D8P1</th>\n",
       "      <th>D4S1P1</th>\n",
       "      <th>D3S2P1</th>\n",
       "      <th>D6S2P2</th>\n",
       "      <th>D7P2</th>\n",
       "      <th>D10P2</th>\n",
       "      <th>D5S1P1</th>\n",
       "      <th>D5S2P1</th>\n",
       "    </tr>\n",
       "    <tr>\n",
       "      <th>Timestamp</th>\n",
       "      <th></th>\n",
       "      <th></th>\n",
       "      <th></th>\n",
       "      <th></th>\n",
       "      <th></th>\n",
       "      <th></th>\n",
       "      <th></th>\n",
       "      <th></th>\n",
       "      <th></th>\n",
       "      <th></th>\n",
       "      <th></th>\n",
       "      <th></th>\n",
       "      <th></th>\n",
       "      <th></th>\n",
       "      <th></th>\n",
       "      <th></th>\n",
       "      <th></th>\n",
       "      <th></th>\n",
       "      <th></th>\n",
       "      <th></th>\n",
       "      <th></th>\n",
       "    </tr>\n",
       "  </thead>\n",
       "  <tbody>\n",
       "    <tr>\n",
       "      <th>2019-02-27 00:00:00.000</th>\n",
       "      <td>0.995511</td>\n",
       "      <td>0.974168</td>\n",
       "      <td>0.184426</td>\n",
       "      <td>0.000000</td>\n",
       "      <td>0.675496</td>\n",
       "      <td>0.995275</td>\n",
       "      <td>1.000000</td>\n",
       "      <td>0.996656</td>\n",
       "      <td>0.965902</td>\n",
       "      <td>0.923713</td>\n",
       "      <td>...</td>\n",
       "      <td>0.730392</td>\n",
       "      <td>0.237066</td>\n",
       "      <td>0.429648</td>\n",
       "      <td>0.721657</td>\n",
       "      <td>0.693862</td>\n",
       "      <td>0.000000</td>\n",
       "      <td>0.949416</td>\n",
       "      <td>0.405239</td>\n",
       "      <td>1.000000</td>\n",
       "      <td>0.996313</td>\n",
       "    </tr>\n",
       "    <tr>\n",
       "      <th>2019-02-27 00:00:00.025</th>\n",
       "      <td>0.995735</td>\n",
       "      <td>0.974602</td>\n",
       "      <td>0.184174</td>\n",
       "      <td>0.001481</td>\n",
       "      <td>0.679067</td>\n",
       "      <td>0.995275</td>\n",
       "      <td>0.998031</td>\n",
       "      <td>1.000000</td>\n",
       "      <td>0.965902</td>\n",
       "      <td>0.928110</td>\n",
       "      <td>...</td>\n",
       "      <td>0.733543</td>\n",
       "      <td>0.236243</td>\n",
       "      <td>0.427136</td>\n",
       "      <td>0.721356</td>\n",
       "      <td>0.695590</td>\n",
       "      <td>0.002288</td>\n",
       "      <td>0.948473</td>\n",
       "      <td>0.405239</td>\n",
       "      <td>0.999554</td>\n",
       "      <td>0.996928</td>\n",
       "    </tr>\n",
       "    <tr>\n",
       "      <th>2019-02-27 00:00:00.050</th>\n",
       "      <td>0.995960</td>\n",
       "      <td>0.975035</td>\n",
       "      <td>0.183922</td>\n",
       "      <td>0.001111</td>\n",
       "      <td>0.683462</td>\n",
       "      <td>0.997637</td>\n",
       "      <td>0.997232</td>\n",
       "      <td>0.998328</td>\n",
       "      <td>0.965246</td>\n",
       "      <td>0.932507</td>\n",
       "      <td>...</td>\n",
       "      <td>0.736695</td>\n",
       "      <td>0.235420</td>\n",
       "      <td>0.426382</td>\n",
       "      <td>0.721054</td>\n",
       "      <td>0.695590</td>\n",
       "      <td>0.001144</td>\n",
       "      <td>0.947530</td>\n",
       "      <td>0.405239</td>\n",
       "      <td>0.999108</td>\n",
       "      <td>0.996313</td>\n",
       "    </tr>\n",
       "    <tr>\n",
       "      <th>2019-02-27 00:00:00.075</th>\n",
       "      <td>0.996184</td>\n",
       "      <td>0.975469</td>\n",
       "      <td>0.183670</td>\n",
       "      <td>0.000741</td>\n",
       "      <td>0.685660</td>\n",
       "      <td>1.000000</td>\n",
       "      <td>0.996432</td>\n",
       "      <td>0.996656</td>\n",
       "      <td>0.965464</td>\n",
       "      <td>0.936904</td>\n",
       "      <td>...</td>\n",
       "      <td>0.739846</td>\n",
       "      <td>0.234939</td>\n",
       "      <td>0.425628</td>\n",
       "      <td>0.720752</td>\n",
       "      <td>0.695590</td>\n",
       "      <td>0.002288</td>\n",
       "      <td>0.946586</td>\n",
       "      <td>0.405239</td>\n",
       "      <td>0.998662</td>\n",
       "      <td>0.996313</td>\n",
       "    </tr>\n",
       "    <tr>\n",
       "      <th>2019-02-27 00:00:00.100</th>\n",
       "      <td>0.996409</td>\n",
       "      <td>0.975903</td>\n",
       "      <td>0.183418</td>\n",
       "      <td>0.000370</td>\n",
       "      <td>0.697966</td>\n",
       "      <td>0.998819</td>\n",
       "      <td>0.995632</td>\n",
       "      <td>0.996656</td>\n",
       "      <td>0.965246</td>\n",
       "      <td>0.941301</td>\n",
       "      <td>...</td>\n",
       "      <td>0.742997</td>\n",
       "      <td>0.234457</td>\n",
       "      <td>0.424874</td>\n",
       "      <td>0.720450</td>\n",
       "      <td>0.695590</td>\n",
       "      <td>0.002288</td>\n",
       "      <td>0.945172</td>\n",
       "      <td>0.404830</td>\n",
       "      <td>0.999554</td>\n",
       "      <td>0.996518</td>\n",
       "    </tr>\n",
       "  </tbody>\n",
       "</table>\n",
       "<p>5 rows × 26 columns</p>\n",
       "</div>"
      ],
      "text/plain": [
       "                           D5S2P2    D5S1P2      D7P1     D10P1    D4S1P2  \\\n",
       "Timestamp                                                                   \n",
       "2019-02-27 00:00:00.000  0.995511  0.974168  0.184426  0.000000  0.675496   \n",
       "2019-02-27 00:00:00.025  0.995735  0.974602  0.184174  0.001481  0.679067   \n",
       "2019-02-27 00:00:00.050  0.995960  0.975035  0.183922  0.001111  0.683462   \n",
       "2019-02-27 00:00:00.075  0.996184  0.975469  0.183670  0.000741  0.685660   \n",
       "2019-02-27 00:00:00.100  0.996409  0.975903  0.183418  0.000370  0.697966   \n",
       "\n",
       "                           D3S2P2    D6S2P1    D9S2P1      D8P2    D9S1P1  \\\n",
       "Timestamp                                                                   \n",
       "2019-02-27 00:00:00.000  0.995275  1.000000  0.996656  0.965902  0.923713   \n",
       "2019-02-27 00:00:00.025  0.995275  0.998031  1.000000  0.965902  0.928110   \n",
       "2019-02-27 00:00:00.050  0.997637  0.997232  0.998328  0.965246  0.932507   \n",
       "2019-02-27 00:00:00.075  1.000000  0.996432  0.996656  0.965464  0.936904   \n",
       "2019-02-27 00:00:00.100  0.998819  0.995632  0.996656  0.965246  0.941301   \n",
       "\n",
       "                         ...    D9S1P2    D9S2P2      D8P1    D4S1P1  \\\n",
       "Timestamp                ...                                           \n",
       "2019-02-27 00:00:00.000  ...  0.730392  0.237066  0.429648  0.721657   \n",
       "2019-02-27 00:00:00.025  ...  0.733543  0.236243  0.427136  0.721356   \n",
       "2019-02-27 00:00:00.050  ...  0.736695  0.235420  0.426382  0.721054   \n",
       "2019-02-27 00:00:00.075  ...  0.739846  0.234939  0.425628  0.720752   \n",
       "2019-02-27 00:00:00.100  ...  0.742997  0.234457  0.424874  0.720450   \n",
       "\n",
       "                           D3S2P1    D6S2P2      D7P2     D10P2    D5S1P1  \\\n",
       "Timestamp                                                                   \n",
       "2019-02-27 00:00:00.000  0.693862  0.000000  0.949416  0.405239  1.000000   \n",
       "2019-02-27 00:00:00.025  0.695590  0.002288  0.948473  0.405239  0.999554   \n",
       "2019-02-27 00:00:00.050  0.695590  0.001144  0.947530  0.405239  0.999108   \n",
       "2019-02-27 00:00:00.075  0.695590  0.002288  0.946586  0.405239  0.998662   \n",
       "2019-02-27 00:00:00.100  0.695590  0.002288  0.945172  0.404830  0.999554   \n",
       "\n",
       "                           D5S2P1  \n",
       "Timestamp                          \n",
       "2019-02-27 00:00:00.000  0.996313  \n",
       "2019-02-27 00:00:00.025  0.996928  \n",
       "2019-02-27 00:00:00.050  0.996313  \n",
       "2019-02-27 00:00:00.075  0.996313  \n",
       "2019-02-27 00:00:00.100  0.996518  \n",
       "\n",
       "[5 rows x 26 columns]"
      ]
     },
     "execution_count": 264,
     "metadata": {},
     "output_type": "execute_result"
    }
   ],
   "source": [
    "gsr.head()"
   ]
  },
  {
   "cell_type": "markdown",
   "metadata": {},
   "source": [
    "#### Resolve Peak Segmentation Subject Names with GSR Subject Names"
   ]
  },
  {
   "cell_type": "markdown",
   "metadata": {},
   "source": [
    "_\"The left person is always P2 (person 2), and they were always wearing the GSR device 92B2.\"_"
   ]
  },
  {
   "cell_type": "markdown",
   "metadata": {},
   "source": [
    "'D4S1P2',\n",
    " 'D6S1P2',\n",
    " 'D3S2P2',\n",
    " 'D10P2',\n",
    " 'D8P2',\n",
    " 'D9S2P2',\n",
    " 'D5S2P2',\n",
    " 'D9S1P2',\n",
    " 'D5S1P2',\n",
    " 'D7P2',\n",
    " 'D6S2P2',\n",
    " 'D3S1P2',\n",
    " 'D1D2P2',\n",
    " 'D4S2P2']"
   ]
  },
  {
   "cell_type": "code",
   "execution_count": 265,
   "metadata": {},
   "outputs": [
    {
     "data": {
      "text/plain": [
       "['D10P2',\n",
       " 'D3S1P2',\n",
       " 'D3S2P2',\n",
       " 'D4S1P2',\n",
       " 'D4S2P2',\n",
       " 'D5S1P2',\n",
       " 'D5S2P2',\n",
       " 'D6S1P2',\n",
       " 'D6S2P2',\n",
       " 'D7P2',\n",
       " 'D8P2',\n",
       " 'D9S1P2',\n",
       " 'D9S2P2']"
      ]
     },
     "execution_count": 265,
     "metadata": {},
     "output_type": "execute_result"
    }
   ],
   "source": [
    "keep_cols = [col for col in gsr.columns if 'P2' in col]\n",
    "sorted(keep_cols)"
   ]
  },
  {
   "cell_type": "code",
   "execution_count": 266,
   "metadata": {},
   "outputs": [
    {
     "data": {
      "text/html": [
       "<div>\n",
       "<style scoped>\n",
       "    .dataframe tbody tr th:only-of-type {\n",
       "        vertical-align: middle;\n",
       "    }\n",
       "\n",
       "    .dataframe tbody tr th {\n",
       "        vertical-align: top;\n",
       "    }\n",
       "\n",
       "    .dataframe thead th {\n",
       "        text-align: right;\n",
       "    }\n",
       "</style>\n",
       "<table border=\"1\" class=\"dataframe\">\n",
       "  <thead>\n",
       "    <tr style=\"text-align: right;\">\n",
       "      <th></th>\n",
       "      <th>D5S2P2</th>\n",
       "      <th>D5S1P2</th>\n",
       "      <th>D4S1P2</th>\n",
       "      <th>D3S2P2</th>\n",
       "      <th>D8P2</th>\n",
       "      <th>D4S2P2</th>\n",
       "      <th>D3S1P2</th>\n",
       "      <th>D6S1P2</th>\n",
       "      <th>D9S1P2</th>\n",
       "      <th>D9S2P2</th>\n",
       "      <th>D6S2P2</th>\n",
       "      <th>D7P2</th>\n",
       "      <th>D10P2</th>\n",
       "    </tr>\n",
       "    <tr>\n",
       "      <th>Timestamp</th>\n",
       "      <th></th>\n",
       "      <th></th>\n",
       "      <th></th>\n",
       "      <th></th>\n",
       "      <th></th>\n",
       "      <th></th>\n",
       "      <th></th>\n",
       "      <th></th>\n",
       "      <th></th>\n",
       "      <th></th>\n",
       "      <th></th>\n",
       "      <th></th>\n",
       "      <th></th>\n",
       "    </tr>\n",
       "  </thead>\n",
       "  <tbody>\n",
       "    <tr>\n",
       "      <th>2019-02-27 00:00:00.000</th>\n",
       "      <td>0.995511</td>\n",
       "      <td>0.974168</td>\n",
       "      <td>0.675496</td>\n",
       "      <td>0.995275</td>\n",
       "      <td>0.965902</td>\n",
       "      <td>0.937234</td>\n",
       "      <td>0.626140</td>\n",
       "      <td>0.62529</td>\n",
       "      <td>0.730392</td>\n",
       "      <td>0.237066</td>\n",
       "      <td>0.000000</td>\n",
       "      <td>0.949416</td>\n",
       "      <td>0.405239</td>\n",
       "    </tr>\n",
       "    <tr>\n",
       "      <th>2019-02-27 00:00:00.025</th>\n",
       "      <td>0.995735</td>\n",
       "      <td>0.974602</td>\n",
       "      <td>0.679067</td>\n",
       "      <td>0.995275</td>\n",
       "      <td>0.965902</td>\n",
       "      <td>0.940087</td>\n",
       "      <td>0.452888</td>\n",
       "      <td>0.62413</td>\n",
       "      <td>0.733543</td>\n",
       "      <td>0.236243</td>\n",
       "      <td>0.002288</td>\n",
       "      <td>0.948473</td>\n",
       "      <td>0.405239</td>\n",
       "    </tr>\n",
       "    <tr>\n",
       "      <th>2019-02-27 00:00:00.050</th>\n",
       "      <td>0.995960</td>\n",
       "      <td>0.975035</td>\n",
       "      <td>0.683462</td>\n",
       "      <td>0.997637</td>\n",
       "      <td>0.965246</td>\n",
       "      <td>0.944081</td>\n",
       "      <td>0.476596</td>\n",
       "      <td>0.62413</td>\n",
       "      <td>0.736695</td>\n",
       "      <td>0.235420</td>\n",
       "      <td>0.001144</td>\n",
       "      <td>0.947530</td>\n",
       "      <td>0.405239</td>\n",
       "    </tr>\n",
       "    <tr>\n",
       "      <th>2019-02-27 00:00:00.075</th>\n",
       "      <td>0.996184</td>\n",
       "      <td>0.975469</td>\n",
       "      <td>0.685660</td>\n",
       "      <td>1.000000</td>\n",
       "      <td>0.965464</td>\n",
       "      <td>0.950928</td>\n",
       "      <td>0.500304</td>\n",
       "      <td>0.62471</td>\n",
       "      <td>0.739846</td>\n",
       "      <td>0.234939</td>\n",
       "      <td>0.002288</td>\n",
       "      <td>0.946586</td>\n",
       "      <td>0.405239</td>\n",
       "    </tr>\n",
       "    <tr>\n",
       "      <th>2019-02-27 00:00:00.100</th>\n",
       "      <td>0.996409</td>\n",
       "      <td>0.975903</td>\n",
       "      <td>0.697966</td>\n",
       "      <td>0.998819</td>\n",
       "      <td>0.965246</td>\n",
       "      <td>0.954922</td>\n",
       "      <td>0.524012</td>\n",
       "      <td>0.62471</td>\n",
       "      <td>0.742997</td>\n",
       "      <td>0.234457</td>\n",
       "      <td>0.002288</td>\n",
       "      <td>0.945172</td>\n",
       "      <td>0.404830</td>\n",
       "    </tr>\n",
       "  </tbody>\n",
       "</table>\n",
       "</div>"
      ],
      "text/plain": [
       "                           D5S2P2    D5S1P2    D4S1P2    D3S2P2      D8P2  \\\n",
       "Timestamp                                                                   \n",
       "2019-02-27 00:00:00.000  0.995511  0.974168  0.675496  0.995275  0.965902   \n",
       "2019-02-27 00:00:00.025  0.995735  0.974602  0.679067  0.995275  0.965902   \n",
       "2019-02-27 00:00:00.050  0.995960  0.975035  0.683462  0.997637  0.965246   \n",
       "2019-02-27 00:00:00.075  0.996184  0.975469  0.685660  1.000000  0.965464   \n",
       "2019-02-27 00:00:00.100  0.996409  0.975903  0.697966  0.998819  0.965246   \n",
       "\n",
       "                           D4S2P2    D3S1P2   D6S1P2    D9S1P2    D9S2P2  \\\n",
       "Timestamp                                                                  \n",
       "2019-02-27 00:00:00.000  0.937234  0.626140  0.62529  0.730392  0.237066   \n",
       "2019-02-27 00:00:00.025  0.940087  0.452888  0.62413  0.733543  0.236243   \n",
       "2019-02-27 00:00:00.050  0.944081  0.476596  0.62413  0.736695  0.235420   \n",
       "2019-02-27 00:00:00.075  0.950928  0.500304  0.62471  0.739846  0.234939   \n",
       "2019-02-27 00:00:00.100  0.954922  0.524012  0.62471  0.742997  0.234457   \n",
       "\n",
       "                           D6S2P2      D7P2     D10P2  \n",
       "Timestamp                                              \n",
       "2019-02-27 00:00:00.000  0.000000  0.949416  0.405239  \n",
       "2019-02-27 00:00:00.025  0.002288  0.948473  0.405239  \n",
       "2019-02-27 00:00:00.050  0.001144  0.947530  0.405239  \n",
       "2019-02-27 00:00:00.075  0.002288  0.946586  0.405239  \n",
       "2019-02-27 00:00:00.100  0.002288  0.945172  0.404830  "
      ]
     },
     "execution_count": 266,
     "metadata": {},
     "output_type": "execute_result"
    }
   ],
   "source": [
    "gsr = gsr[keep_cols]\n",
    "gsr.head()"
   ]
  },
  {
   "cell_type": "markdown",
   "metadata": {},
   "source": [
    "### Wrangle PeakMs Column of Peaks"
   ]
  },
  {
   "cell_type": "code",
   "execution_count": 267,
   "metadata": {},
   "outputs": [
    {
     "data": {
      "text/html": [
       "<div>\n",
       "<style scoped>\n",
       "    .dataframe tbody tr th:only-of-type {\n",
       "        vertical-align: middle;\n",
       "    }\n",
       "\n",
       "    .dataframe tbody tr th {\n",
       "        vertical-align: top;\n",
       "    }\n",
       "\n",
       "    .dataframe thead th {\n",
       "        text-align: right;\n",
       "    }\n",
       "</style>\n",
       "<table border=\"1\" class=\"dataframe\">\n",
       "  <thead>\n",
       "    <tr style=\"text-align: right;\">\n",
       "      <th></th>\n",
       "      <th>Segmentation</th>\n",
       "      <th>Stimulus</th>\n",
       "      <th>OnsetMs</th>\n",
       "      <th>PeakMs</th>\n",
       "      <th>OffsetMs</th>\n",
       "      <th>Amplitude</th>\n",
       "      <th>StimulusPeakSequenceNr</th>\n",
       "      <th>Unnamed: 10</th>\n",
       "      <th>TotalPeakSequenceNr</th>\n",
       "      <th>Unnamed: 11</th>\n",
       "    </tr>\n",
       "  </thead>\n",
       "  <tbody>\n",
       "    <tr>\n",
       "      <th>0</th>\n",
       "      <td>D4S1P2</td>\n",
       "      <td>Forest</td>\n",
       "      <td>18461</td>\n",
       "      <td>1970-01-01 00:00:00.000020575</td>\n",
       "      <td>23759</td>\n",
       "      <td>0.4680</td>\n",
       "      <td>1</td>\n",
       "      <td>0.111429</td>\n",
       "      <td>NaN</td>\n",
       "      <td>NaN</td>\n",
       "    </tr>\n",
       "    <tr>\n",
       "      <th>1</th>\n",
       "      <td>D4S1P2</td>\n",
       "      <td>Forest</td>\n",
       "      <td>30715</td>\n",
       "      <td>1970-01-01 00:00:00.000031495</td>\n",
       "      <td>32992</td>\n",
       "      <td>0.0600</td>\n",
       "      <td>2</td>\n",
       "      <td>NaN</td>\n",
       "      <td>NaN</td>\n",
       "      <td>NaN</td>\n",
       "    </tr>\n",
       "    <tr>\n",
       "      <th>2</th>\n",
       "      <td>D4S1P2</td>\n",
       "      <td>Forest</td>\n",
       "      <td>35438</td>\n",
       "      <td>1970-01-01 00:00:00.000035886</td>\n",
       "      <td>38369</td>\n",
       "      <td>0.0165</td>\n",
       "      <td>3</td>\n",
       "      <td>NaN</td>\n",
       "      <td>NaN</td>\n",
       "      <td>NaN</td>\n",
       "    </tr>\n",
       "    <tr>\n",
       "      <th>3</th>\n",
       "      <td>D4S1P2</td>\n",
       "      <td>Forest</td>\n",
       "      <td>51013</td>\n",
       "      <td>1970-01-01 00:00:00.000053057</td>\n",
       "      <td>55676</td>\n",
       "      <td>0.1035</td>\n",
       "      <td>4</td>\n",
       "      <td>NaN</td>\n",
       "      <td>NaN</td>\n",
       "      <td>NaN</td>\n",
       "    </tr>\n",
       "    <tr>\n",
       "      <th>4</th>\n",
       "      <td>D4S1P2</td>\n",
       "      <td>Forest</td>\n",
       "      <td>114536</td>\n",
       "      <td>1970-01-01 00:00:00.000115738</td>\n",
       "      <td>120750</td>\n",
       "      <td>0.0210</td>\n",
       "      <td>5</td>\n",
       "      <td>NaN</td>\n",
       "      <td>NaN</td>\n",
       "      <td>NaN</td>\n",
       "    </tr>\n",
       "  </tbody>\n",
       "</table>\n",
       "</div>"
      ],
      "text/plain": [
       "  Segmentation Stimulus  OnsetMs                        PeakMs  OffsetMs  \\\n",
       "0       D4S1P2   Forest    18461 1970-01-01 00:00:00.000020575     23759   \n",
       "1       D4S1P2   Forest    30715 1970-01-01 00:00:00.000031495     32992   \n",
       "2       D4S1P2   Forest    35438 1970-01-01 00:00:00.000035886     38369   \n",
       "3       D4S1P2   Forest    51013 1970-01-01 00:00:00.000053057     55676   \n",
       "4       D4S1P2   Forest   114536 1970-01-01 00:00:00.000115738    120750   \n",
       "\n",
       "   Amplitude  StimulusPeakSequenceNr  Unnamed: 10  TotalPeakSequenceNr  \\\n",
       "0     0.4680                       1     0.111429                  NaN   \n",
       "1     0.0600                       2          NaN                  NaN   \n",
       "2     0.0165                       3          NaN                  NaN   \n",
       "3     0.1035                       4          NaN                  NaN   \n",
       "4     0.0210                       5          NaN                  NaN   \n",
       "\n",
       "   Unnamed: 11  \n",
       "0          NaN  \n",
       "1          NaN  \n",
       "2          NaN  \n",
       "3          NaN  \n",
       "4          NaN  "
      ]
     },
     "execution_count": 267,
     "metadata": {},
     "output_type": "execute_result"
    }
   ],
   "source": [
    "peaks.head()"
   ]
  },
  {
   "cell_type": "markdown",
   "metadata": {},
   "source": [
    "### Learn to Compare...."
   ]
  },
  {
   "cell_type": "code",
   "execution_count": 268,
   "metadata": {
    "scrolled": true
   },
   "outputs": [
    {
     "data": {
      "text/plain": [
       "False"
      ]
     },
     "execution_count": 268,
     "metadata": {},
     "output_type": "execute_result"
    }
   ],
   "source": [
    "peaks['PeakMs'].iloc[0].time() < gsr.index[0].time()"
   ]
  },
  {
   "cell_type": "code",
   "execution_count": 269,
   "metadata": {},
   "outputs": [
    {
     "data": {
      "text/plain": [
       "datetime.time(0, 0, 0, 31)"
      ]
     },
     "execution_count": 269,
     "metadata": {},
     "output_type": "execute_result"
    }
   ],
   "source": [
    "peaks['PeakMs'].iloc[1].time()"
   ]
  },
  {
   "cell_type": "code",
   "execution_count": 270,
   "metadata": {},
   "outputs": [
    {
     "data": {
      "text/plain": [
       "Timestamp('2019-02-27 00:00:00.125000')"
      ]
     },
     "execution_count": 270,
     "metadata": {},
     "output_type": "execute_result"
    }
   ],
   "source": [
    "gsr.index[5]"
   ]
  },
  {
   "cell_type": "code",
   "execution_count": 271,
   "metadata": {},
   "outputs": [
    {
     "data": {
      "text/plain": [
       "Timestamp('2019-02-27 00:00:00.150000')"
      ]
     },
     "execution_count": 271,
     "metadata": {},
     "output_type": "execute_result"
    }
   ],
   "source": [
    "gsr.index[5] + timedelta(milliseconds=25) # days, seconds, then other fields."
   ]
  },
  {
   "cell_type": "markdown",
   "metadata": {},
   "source": [
    "### Wrangle GSR"
   ]
  },
  {
   "cell_type": "markdown",
   "metadata": {},
   "source": [
    "For each row in gsr[timestamp], treat the value as the range_bottom and check every value in peaks['PeakMs'] for possible membership in the timestamp's 25 ms interval."
   ]
  },
  {
   "cell_type": "code",
   "execution_count": 272,
   "metadata": {},
   "outputs": [
    {
     "data": {
      "text/plain": [
       "'D5S1P2'"
      ]
     },
     "execution_count": 272,
     "metadata": {},
     "output_type": "execute_result"
    }
   ],
   "source": [
    "col_name = gsr.columns[1]\n",
    "col_name"
   ]
  },
  {
   "cell_type": "code",
   "execution_count": 273,
   "metadata": {},
   "outputs": [
    {
     "data": {
      "text/plain": [
       "Timestamp\n",
       "2019-02-27 00:00:00.000    0.974168\n",
       "2019-02-27 00:00:00.025    0.974602\n",
       "2019-02-27 00:00:00.050    0.975035\n",
       "2019-02-27 00:00:00.075    0.975469\n",
       "2019-02-27 00:00:00.100    0.975903\n",
       "Name: D5S1P2, dtype: float64"
      ]
     },
     "execution_count": 273,
     "metadata": {},
     "output_type": "execute_result"
    }
   ],
   "source": [
    "col = gsr[col_name]\n",
    "col.head()"
   ]
  },
  {
   "cell_type": "code",
   "execution_count": 274,
   "metadata": {},
   "outputs": [],
   "source": [
    "base_series = pd.DataFrame(col)"
   ]
  },
  {
   "cell_type": "code",
   "execution_count": 275,
   "metadata": {},
   "outputs": [
    {
     "data": {
      "text/html": [
       "<div>\n",
       "<style scoped>\n",
       "    .dataframe tbody tr th:only-of-type {\n",
       "        vertical-align: middle;\n",
       "    }\n",
       "\n",
       "    .dataframe tbody tr th {\n",
       "        vertical-align: top;\n",
       "    }\n",
       "\n",
       "    .dataframe thead th {\n",
       "        text-align: right;\n",
       "    }\n",
       "</style>\n",
       "<table border=\"1\" class=\"dataframe\">\n",
       "  <thead>\n",
       "    <tr style=\"text-align: right;\">\n",
       "      <th></th>\n",
       "      <th>D5S1P2</th>\n",
       "    </tr>\n",
       "    <tr>\n",
       "      <th>Timestamp</th>\n",
       "      <th></th>\n",
       "    </tr>\n",
       "  </thead>\n",
       "  <tbody>\n",
       "    <tr>\n",
       "      <th>2019-02-27 00:00:00.000</th>\n",
       "      <td>0.974168</td>\n",
       "    </tr>\n",
       "    <tr>\n",
       "      <th>2019-02-27 00:00:00.025</th>\n",
       "      <td>0.974602</td>\n",
       "    </tr>\n",
       "    <tr>\n",
       "      <th>2019-02-27 00:00:00.050</th>\n",
       "      <td>0.975035</td>\n",
       "    </tr>\n",
       "    <tr>\n",
       "      <th>2019-02-27 00:00:00.075</th>\n",
       "      <td>0.975469</td>\n",
       "    </tr>\n",
       "    <tr>\n",
       "      <th>2019-02-27 00:00:00.100</th>\n",
       "      <td>0.975903</td>\n",
       "    </tr>\n",
       "  </tbody>\n",
       "</table>\n",
       "</div>"
      ],
      "text/plain": [
       "                           D5S1P2\n",
       "Timestamp                        \n",
       "2019-02-27 00:00:00.000  0.974168\n",
       "2019-02-27 00:00:00.025  0.974602\n",
       "2019-02-27 00:00:00.050  0.975035\n",
       "2019-02-27 00:00:00.075  0.975469\n",
       "2019-02-27 00:00:00.100  0.975903"
      ]
     },
     "execution_count": 275,
     "metadata": {},
     "output_type": "execute_result"
    }
   ],
   "source": [
    "base_series.head()"
   ]
  },
  {
   "cell_type": "markdown",
   "metadata": {},
   "source": [
    "### Wrangle Peaks"
   ]
  },
  {
   "cell_type": "markdown",
   "metadata": {},
   "source": [
    "#### Reframe Peaks as a Time Series"
   ]
  },
  {
   "cell_type": "code",
   "execution_count": 276,
   "metadata": {},
   "outputs": [],
   "source": [
    "peaks = peaks.set_index('PeakMs')"
   ]
  },
  {
   "cell_type": "code",
   "execution_count": 277,
   "metadata": {},
   "outputs": [
    {
     "data": {
      "text/plain": [
       "count    1184.000000\n",
       "mean        0.106061\n",
       "std         0.191567\n",
       "min         0.005014\n",
       "25%         0.015497\n",
       "50%         0.043500\n",
       "75%         0.119223\n",
       "max         3.277800\n",
       "Name: Amplitude, dtype: float64"
      ]
     },
     "execution_count": 277,
     "metadata": {},
     "output_type": "execute_result"
    }
   ],
   "source": [
    "peaks['Amplitude'].describe()"
   ]
  },
  {
   "cell_type": "code",
   "execution_count": 278,
   "metadata": {},
   "outputs": [],
   "source": [
    "peaks = peaks[peaks['Amplitude'] >= .119223]"
   ]
  },
  {
   "cell_type": "code",
   "execution_count": 279,
   "metadata": {
    "scrolled": true
   },
   "outputs": [
    {
     "data": {
      "text/html": [
       "<div>\n",
       "<style scoped>\n",
       "    .dataframe tbody tr th:only-of-type {\n",
       "        vertical-align: middle;\n",
       "    }\n",
       "\n",
       "    .dataframe tbody tr th {\n",
       "        vertical-align: top;\n",
       "    }\n",
       "\n",
       "    .dataframe thead th {\n",
       "        text-align: right;\n",
       "    }\n",
       "</style>\n",
       "<table border=\"1\" class=\"dataframe\">\n",
       "  <thead>\n",
       "    <tr style=\"text-align: right;\">\n",
       "      <th></th>\n",
       "      <th>Segmentation</th>\n",
       "      <th>Stimulus</th>\n",
       "      <th>OnsetMs</th>\n",
       "      <th>OffsetMs</th>\n",
       "      <th>Amplitude</th>\n",
       "      <th>StimulusPeakSequenceNr</th>\n",
       "      <th>Unnamed: 10</th>\n",
       "      <th>TotalPeakSequenceNr</th>\n",
       "      <th>Unnamed: 11</th>\n",
       "    </tr>\n",
       "    <tr>\n",
       "      <th>PeakMs</th>\n",
       "      <th></th>\n",
       "      <th></th>\n",
       "      <th></th>\n",
       "      <th></th>\n",
       "      <th></th>\n",
       "      <th></th>\n",
       "      <th></th>\n",
       "      <th></th>\n",
       "      <th></th>\n",
       "    </tr>\n",
       "  </thead>\n",
       "  <tbody>\n",
       "    <tr>\n",
       "      <th>1970-01-01 00:00:00.000020575</th>\n",
       "      <td>D4S1P2</td>\n",
       "      <td>Forest</td>\n",
       "      <td>18461</td>\n",
       "      <td>23759</td>\n",
       "      <td>0.4680</td>\n",
       "      <td>1</td>\n",
       "      <td>0.111429</td>\n",
       "      <td>NaN</td>\n",
       "      <td>NaN</td>\n",
       "    </tr>\n",
       "    <tr>\n",
       "      <th>1970-01-01 00:00:00.000051750</th>\n",
       "      <td>D4S1P2</td>\n",
       "      <td>Mountain</td>\n",
       "      <td>47885</td>\n",
       "      <td>53748</td>\n",
       "      <td>0.8820</td>\n",
       "      <td>2</td>\n",
       "      <td>NaN</td>\n",
       "      <td>NaN</td>\n",
       "      <td>NaN</td>\n",
       "    </tr>\n",
       "    <tr>\n",
       "      <th>1970-01-01 00:00:00.000024758</th>\n",
       "      <td>D4S1P2</td>\n",
       "      <td>Stream</td>\n",
       "      <td>23232</td>\n",
       "      <td>27109</td>\n",
       "      <td>0.1740</td>\n",
       "      <td>2</td>\n",
       "      <td>NaN</td>\n",
       "      <td>NaN</td>\n",
       "      <td>NaN</td>\n",
       "    </tr>\n",
       "    <tr>\n",
       "      <th>1970-01-01 00:00:00.000071525</th>\n",
       "      <td>D4S1P2</td>\n",
       "      <td>Stream</td>\n",
       "      <td>70249</td>\n",
       "      <td>75099</td>\n",
       "      <td>0.3564</td>\n",
       "      <td>6</td>\n",
       "      <td>NaN</td>\n",
       "      <td>NaN</td>\n",
       "      <td>NaN</td>\n",
       "    </tr>\n",
       "    <tr>\n",
       "      <th>1970-01-01 00:00:00.000089199</th>\n",
       "      <td>D4S1P2</td>\n",
       "      <td>Stream</td>\n",
       "      <td>88317</td>\n",
       "      <td>91898</td>\n",
       "      <td>0.1470</td>\n",
       "      <td>7</td>\n",
       "      <td>NaN</td>\n",
       "      <td>NaN</td>\n",
       "      <td>NaN</td>\n",
       "    </tr>\n",
       "  </tbody>\n",
       "</table>\n",
       "</div>"
      ],
      "text/plain": [
       "                              Segmentation  Stimulus  OnsetMs  OffsetMs  \\\n",
       "PeakMs                                                                    \n",
       "1970-01-01 00:00:00.000020575       D4S1P2    Forest    18461     23759   \n",
       "1970-01-01 00:00:00.000051750       D4S1P2  Mountain    47885     53748   \n",
       "1970-01-01 00:00:00.000024758       D4S1P2    Stream    23232     27109   \n",
       "1970-01-01 00:00:00.000071525       D4S1P2    Stream    70249     75099   \n",
       "1970-01-01 00:00:00.000089199       D4S1P2    Stream    88317     91898   \n",
       "\n",
       "                               Amplitude  StimulusPeakSequenceNr  Unnamed: 10  \\\n",
       "PeakMs                                                                          \n",
       "1970-01-01 00:00:00.000020575     0.4680                       1     0.111429   \n",
       "1970-01-01 00:00:00.000051750     0.8820                       2          NaN   \n",
       "1970-01-01 00:00:00.000024758     0.1740                       2          NaN   \n",
       "1970-01-01 00:00:00.000071525     0.3564                       6          NaN   \n",
       "1970-01-01 00:00:00.000089199     0.1470                       7          NaN   \n",
       "\n",
       "                               TotalPeakSequenceNr  Unnamed: 11  \n",
       "PeakMs                                                           \n",
       "1970-01-01 00:00:00.000020575                  NaN          NaN  \n",
       "1970-01-01 00:00:00.000051750                  NaN          NaN  \n",
       "1970-01-01 00:00:00.000024758                  NaN          NaN  \n",
       "1970-01-01 00:00:00.000071525                  NaN          NaN  \n",
       "1970-01-01 00:00:00.000089199                  NaN          NaN  "
      ]
     },
     "execution_count": 279,
     "metadata": {},
     "output_type": "execute_result"
    }
   ],
   "source": [
    "peaks.head()"
   ]
  },
  {
   "cell_type": "code",
   "execution_count": 280,
   "metadata": {},
   "outputs": [],
   "source": [
    "peaks_one_subject = peaks[peaks['Segmentation'] == col_name]"
   ]
  },
  {
   "cell_type": "code",
   "execution_count": 281,
   "metadata": {},
   "outputs": [
    {
     "data": {
      "text/html": [
       "<div>\n",
       "<style scoped>\n",
       "    .dataframe tbody tr th:only-of-type {\n",
       "        vertical-align: middle;\n",
       "    }\n",
       "\n",
       "    .dataframe tbody tr th {\n",
       "        vertical-align: top;\n",
       "    }\n",
       "\n",
       "    .dataframe thead th {\n",
       "        text-align: right;\n",
       "    }\n",
       "</style>\n",
       "<table border=\"1\" class=\"dataframe\">\n",
       "  <thead>\n",
       "    <tr style=\"text-align: right;\">\n",
       "      <th></th>\n",
       "      <th>Segmentation</th>\n",
       "      <th>Stimulus</th>\n",
       "      <th>OnsetMs</th>\n",
       "      <th>OffsetMs</th>\n",
       "      <th>Amplitude</th>\n",
       "      <th>StimulusPeakSequenceNr</th>\n",
       "      <th>Unnamed: 10</th>\n",
       "      <th>TotalPeakSequenceNr</th>\n",
       "      <th>Unnamed: 11</th>\n",
       "    </tr>\n",
       "    <tr>\n",
       "      <th>PeakMs</th>\n",
       "      <th></th>\n",
       "      <th></th>\n",
       "      <th></th>\n",
       "      <th></th>\n",
       "      <th></th>\n",
       "      <th></th>\n",
       "      <th></th>\n",
       "      <th></th>\n",
       "      <th></th>\n",
       "    </tr>\n",
       "  </thead>\n",
       "  <tbody>\n",
       "    <tr>\n",
       "      <th>1970-01-01 00:00:00.000108550</th>\n",
       "      <td>D5S1P2</td>\n",
       "      <td>Forest</td>\n",
       "      <td>106787</td>\n",
       "      <td>111059</td>\n",
       "      <td>0.125801</td>\n",
       "      <td>2</td>\n",
       "      <td>NaN</td>\n",
       "      <td>NaN</td>\n",
       "      <td>NaN</td>\n",
       "    </tr>\n",
       "    <tr>\n",
       "      <th>1970-01-01 00:00:00.000007124</th>\n",
       "      <td>D5S1P2</td>\n",
       "      <td>Ocean</td>\n",
       "      <td>3742</td>\n",
       "      <td>8895</td>\n",
       "      <td>0.159000</td>\n",
       "      <td>1</td>\n",
       "      <td>0.036509</td>\n",
       "      <td>NaN</td>\n",
       "      <td>NaN</td>\n",
       "    </tr>\n",
       "    <tr>\n",
       "      <th>1970-01-01 00:00:00.000104620</th>\n",
       "      <td>D5S1P2</td>\n",
       "      <td>Stream</td>\n",
       "      <td>103113</td>\n",
       "      <td>106473</td>\n",
       "      <td>0.124500</td>\n",
       "      <td>14</td>\n",
       "      <td>NaN</td>\n",
       "      <td>NaN</td>\n",
       "      <td>NaN</td>\n",
       "    </tr>\n",
       "    <tr>\n",
       "      <th>1970-01-01 00:00:00.000014390</th>\n",
       "      <td>D5S1P2</td>\n",
       "      <td>Forest</td>\n",
       "      <td>14114</td>\n",
       "      <td>14744</td>\n",
       "      <td>0.149427</td>\n",
       "      <td>7</td>\n",
       "      <td>NaN</td>\n",
       "      <td>NaN</td>\n",
       "      <td>NaN</td>\n",
       "    </tr>\n",
       "    <tr>\n",
       "      <th>1970-01-01 00:00:00.000019273</th>\n",
       "      <td>D5S1P2</td>\n",
       "      <td>Forest</td>\n",
       "      <td>18515</td>\n",
       "      <td>20469</td>\n",
       "      <td>0.129513</td>\n",
       "      <td>10</td>\n",
       "      <td>NaN</td>\n",
       "      <td>NaN</td>\n",
       "      <td>NaN</td>\n",
       "    </tr>\n",
       "  </tbody>\n",
       "</table>\n",
       "</div>"
      ],
      "text/plain": [
       "                              Segmentation Stimulus  OnsetMs  OffsetMs  \\\n",
       "PeakMs                                                                   \n",
       "1970-01-01 00:00:00.000108550       D5S1P2   Forest   106787    111059   \n",
       "1970-01-01 00:00:00.000007124       D5S1P2    Ocean     3742      8895   \n",
       "1970-01-01 00:00:00.000104620       D5S1P2   Stream   103113    106473   \n",
       "1970-01-01 00:00:00.000014390       D5S1P2   Forest    14114     14744   \n",
       "1970-01-01 00:00:00.000019273       D5S1P2   Forest    18515     20469   \n",
       "\n",
       "                               Amplitude  StimulusPeakSequenceNr  Unnamed: 10  \\\n",
       "PeakMs                                                                          \n",
       "1970-01-01 00:00:00.000108550   0.125801                       2          NaN   \n",
       "1970-01-01 00:00:00.000007124   0.159000                       1     0.036509   \n",
       "1970-01-01 00:00:00.000104620   0.124500                      14          NaN   \n",
       "1970-01-01 00:00:00.000014390   0.149427                       7          NaN   \n",
       "1970-01-01 00:00:00.000019273   0.129513                      10          NaN   \n",
       "\n",
       "                               TotalPeakSequenceNr  Unnamed: 11  \n",
       "PeakMs                                                           \n",
       "1970-01-01 00:00:00.000108550                  NaN          NaN  \n",
       "1970-01-01 00:00:00.000007124                  NaN          NaN  \n",
       "1970-01-01 00:00:00.000104620                  NaN          NaN  \n",
       "1970-01-01 00:00:00.000014390                  NaN          NaN  \n",
       "1970-01-01 00:00:00.000019273                  NaN          NaN  "
      ]
     },
     "execution_count": 281,
     "metadata": {},
     "output_type": "execute_result"
    }
   ],
   "source": [
    "peaks_one_subject.head()"
   ]
  },
  {
   "cell_type": "markdown",
   "metadata": {},
   "source": [
    "#### Use GSR index to select the Peaks Data"
   ]
  },
  {
   "cell_type": "code",
   "execution_count": 282,
   "metadata": {},
   "outputs": [
    {
     "ename": "ValueError",
     "evalue": "Invalid frequency: 1second",
     "output_type": "error",
     "traceback": [
      "\u001b[0;31m---------------------------------------------------------------------------\u001b[0m",
      "\u001b[0;31mKeyError\u001b[0m                                  Traceback (most recent call last)",
      "\u001b[0;32m~/.local/share/virtualenvs/nature-nurtures--FcyQ97q/lib/python3.7/site-packages/pandas/tseries/frequencies.py\u001b[0m in \u001b[0;36m_get_offset\u001b[0;34m(name)\u001b[0m\n\u001b[1;32m    221\u001b[0m             \u001b[0msplit\u001b[0m \u001b[0;34m=\u001b[0m \u001b[0mname\u001b[0m\u001b[0;34m.\u001b[0m\u001b[0msplit\u001b[0m\u001b[0;34m(\u001b[0m\u001b[0;34m\"-\"\u001b[0m\u001b[0;34m)\u001b[0m\u001b[0;34m\u001b[0m\u001b[0;34m\u001b[0m\u001b[0m\n\u001b[0;32m--> 222\u001b[0;31m             \u001b[0mklass\u001b[0m \u001b[0;34m=\u001b[0m \u001b[0mprefix_mapping\u001b[0m\u001b[0;34m[\u001b[0m\u001b[0msplit\u001b[0m\u001b[0;34m[\u001b[0m\u001b[0;36m0\u001b[0m\u001b[0;34m]\u001b[0m\u001b[0;34m]\u001b[0m\u001b[0;34m\u001b[0m\u001b[0;34m\u001b[0m\u001b[0m\n\u001b[0m\u001b[1;32m    223\u001b[0m             \u001b[0;31m# handles case where there's no suffix (and will TypeError if too\u001b[0m\u001b[0;34m\u001b[0m\u001b[0;34m\u001b[0m\u001b[0;34m\u001b[0m\u001b[0m\n",
      "\u001b[0;31mKeyError\u001b[0m: 'SECOND'",
      "\nDuring handling of the above exception, another exception occurred:\n",
      "\u001b[0;31mValueError\u001b[0m                                Traceback (most recent call last)",
      "\u001b[0;32m~/.local/share/virtualenvs/nature-nurtures--FcyQ97q/lib/python3.7/site-packages/pandas/tseries/frequencies.py\u001b[0m in \u001b[0;36mto_offset\u001b[0;34m(freq)\u001b[0m\n\u001b[1;32m    169\u001b[0m                 \u001b[0mstride\u001b[0m \u001b[0;34m=\u001b[0m \u001b[0mint\u001b[0m\u001b[0;34m(\u001b[0m\u001b[0mstride\u001b[0m\u001b[0;34m)\u001b[0m\u001b[0;34m\u001b[0m\u001b[0;34m\u001b[0m\u001b[0m\n\u001b[0;32m--> 170\u001b[0;31m                 \u001b[0moffset\u001b[0m \u001b[0;34m=\u001b[0m \u001b[0m_get_offset\u001b[0m\u001b[0;34m(\u001b[0m\u001b[0mname\u001b[0m\u001b[0;34m)\u001b[0m\u001b[0;34m\u001b[0m\u001b[0;34m\u001b[0m\u001b[0m\n\u001b[0m\u001b[1;32m    171\u001b[0m                 \u001b[0moffset\u001b[0m \u001b[0;34m=\u001b[0m \u001b[0moffset\u001b[0m \u001b[0;34m*\u001b[0m \u001b[0mint\u001b[0m\u001b[0;34m(\u001b[0m\u001b[0mnp\u001b[0m\u001b[0;34m.\u001b[0m\u001b[0mfabs\u001b[0m\u001b[0;34m(\u001b[0m\u001b[0mstride\u001b[0m\u001b[0;34m)\u001b[0m \u001b[0;34m*\u001b[0m \u001b[0mstride_sign\u001b[0m\u001b[0;34m)\u001b[0m\u001b[0;34m\u001b[0m\u001b[0;34m\u001b[0m\u001b[0m\n",
      "\u001b[0;32m~/.local/share/virtualenvs/nature-nurtures--FcyQ97q/lib/python3.7/site-packages/pandas/tseries/frequencies.py\u001b[0m in \u001b[0;36m_get_offset\u001b[0;34m(name)\u001b[0m\n\u001b[1;32m    227\u001b[0m             \u001b[0;31m# bad prefix or suffix\u001b[0m\u001b[0;34m\u001b[0m\u001b[0;34m\u001b[0m\u001b[0;34m\u001b[0m\u001b[0m\n\u001b[0;32m--> 228\u001b[0;31m             \u001b[0;32mraise\u001b[0m \u001b[0mValueError\u001b[0m\u001b[0;34m(\u001b[0m\u001b[0mlibfreqs\u001b[0m\u001b[0;34m.\u001b[0m\u001b[0mINVALID_FREQ_ERR_MSG\u001b[0m\u001b[0;34m.\u001b[0m\u001b[0mformat\u001b[0m\u001b[0;34m(\u001b[0m\u001b[0mname\u001b[0m\u001b[0;34m)\u001b[0m\u001b[0;34m)\u001b[0m\u001b[0;34m\u001b[0m\u001b[0;34m\u001b[0m\u001b[0m\n\u001b[0m\u001b[1;32m    229\u001b[0m         \u001b[0;31m# cache\u001b[0m\u001b[0;34m\u001b[0m\u001b[0;34m\u001b[0m\u001b[0;34m\u001b[0m\u001b[0m\n",
      "\u001b[0;31mValueError\u001b[0m: Invalid frequency: SECOND",
      "\nDuring handling of the above exception, another exception occurred:\n",
      "\u001b[0;31mValueError\u001b[0m                                Traceback (most recent call last)",
      "\u001b[0;32m<ipython-input-282-73298316498c>\u001b[0m in \u001b[0;36m<module>\u001b[0;34m\u001b[0m\n\u001b[0;32m----> 1\u001b[0;31m \u001b[0mpeaks_one_subject\u001b[0m \u001b[0;34m=\u001b[0m \u001b[0mpeaks_one_subject\u001b[0m\u001b[0;34m.\u001b[0m\u001b[0mresample\u001b[0m\u001b[0;34m(\u001b[0m\u001b[0;34m'1second'\u001b[0m\u001b[0;34m)\u001b[0m\u001b[0;34m.\u001b[0m\u001b[0mcount\u001b[0m\u001b[0;34m(\u001b[0m\u001b[0;34m)\u001b[0m\u001b[0;34m\u001b[0m\u001b[0;34m\u001b[0m\u001b[0m\n\u001b[0m",
      "\u001b[0;32m~/.local/share/virtualenvs/nature-nurtures--FcyQ97q/lib/python3.7/site-packages/pandas/core/generic.py\u001b[0m in \u001b[0;36mresample\u001b[0;34m(self, rule, axis, closed, label, convention, kind, loffset, base, on, level)\u001b[0m\n\u001b[1;32m   8113\u001b[0m             \u001b[0mbase\u001b[0m\u001b[0;34m=\u001b[0m\u001b[0mbase\u001b[0m\u001b[0;34m,\u001b[0m\u001b[0;34m\u001b[0m\u001b[0;34m\u001b[0m\u001b[0m\n\u001b[1;32m   8114\u001b[0m             \u001b[0mkey\u001b[0m\u001b[0;34m=\u001b[0m\u001b[0mon\u001b[0m\u001b[0;34m,\u001b[0m\u001b[0;34m\u001b[0m\u001b[0;34m\u001b[0m\u001b[0m\n\u001b[0;32m-> 8115\u001b[0;31m             \u001b[0mlevel\u001b[0m\u001b[0;34m=\u001b[0m\u001b[0mlevel\u001b[0m\u001b[0;34m,\u001b[0m\u001b[0;34m\u001b[0m\u001b[0;34m\u001b[0m\u001b[0m\n\u001b[0m\u001b[1;32m   8116\u001b[0m         )\n\u001b[1;32m   8117\u001b[0m \u001b[0;34m\u001b[0m\u001b[0m\n",
      "\u001b[0;32m~/.local/share/virtualenvs/nature-nurtures--FcyQ97q/lib/python3.7/site-packages/pandas/core/resample.py\u001b[0m in \u001b[0;36mresample\u001b[0;34m(obj, kind, **kwds)\u001b[0m\n\u001b[1;32m   1267\u001b[0m     \u001b[0mCreate\u001b[0m \u001b[0ma\u001b[0m \u001b[0mTimeGrouper\u001b[0m \u001b[0;32mand\u001b[0m \u001b[0;32mreturn\u001b[0m \u001b[0mour\u001b[0m \u001b[0mresampler\u001b[0m\u001b[0;34m.\u001b[0m\u001b[0;34m\u001b[0m\u001b[0;34m\u001b[0m\u001b[0m\n\u001b[1;32m   1268\u001b[0m     \"\"\"\n\u001b[0;32m-> 1269\u001b[0;31m     \u001b[0mtg\u001b[0m \u001b[0;34m=\u001b[0m \u001b[0mTimeGrouper\u001b[0m\u001b[0;34m(\u001b[0m\u001b[0;34m**\u001b[0m\u001b[0mkwds\u001b[0m\u001b[0;34m)\u001b[0m\u001b[0;34m\u001b[0m\u001b[0;34m\u001b[0m\u001b[0m\n\u001b[0m\u001b[1;32m   1270\u001b[0m     \u001b[0;32mreturn\u001b[0m \u001b[0mtg\u001b[0m\u001b[0;34m.\u001b[0m\u001b[0m_get_resampler\u001b[0m\u001b[0;34m(\u001b[0m\u001b[0mobj\u001b[0m\u001b[0;34m,\u001b[0m \u001b[0mkind\u001b[0m\u001b[0;34m=\u001b[0m\u001b[0mkind\u001b[0m\u001b[0;34m)\u001b[0m\u001b[0;34m\u001b[0m\u001b[0;34m\u001b[0m\u001b[0m\n\u001b[1;32m   1271\u001b[0m \u001b[0;34m\u001b[0m\u001b[0m\n",
      "\u001b[0;32m~/.local/share/virtualenvs/nature-nurtures--FcyQ97q/lib/python3.7/site-packages/pandas/core/resample.py\u001b[0m in \u001b[0;36m__init__\u001b[0;34m(self, freq, closed, label, how, axis, fill_method, limit, loffset, kind, convention, base, **kwargs)\u001b[0m\n\u001b[1;32m   1336\u001b[0m             \u001b[0;32mraise\u001b[0m \u001b[0mValueError\u001b[0m\u001b[0;34m(\u001b[0m\u001b[0;34mf\"Unsupported value {convention} for `convention`\"\u001b[0m\u001b[0;34m)\u001b[0m\u001b[0;34m\u001b[0m\u001b[0;34m\u001b[0m\u001b[0m\n\u001b[1;32m   1337\u001b[0m \u001b[0;34m\u001b[0m\u001b[0m\n\u001b[0;32m-> 1338\u001b[0;31m         \u001b[0mfreq\u001b[0m \u001b[0;34m=\u001b[0m \u001b[0mto_offset\u001b[0m\u001b[0;34m(\u001b[0m\u001b[0mfreq\u001b[0m\u001b[0;34m)\u001b[0m\u001b[0;34m\u001b[0m\u001b[0;34m\u001b[0m\u001b[0m\n\u001b[0m\u001b[1;32m   1339\u001b[0m \u001b[0;34m\u001b[0m\u001b[0m\n\u001b[1;32m   1340\u001b[0m         \u001b[0mend_types\u001b[0m \u001b[0;34m=\u001b[0m \u001b[0;34m{\u001b[0m\u001b[0;34m\"M\"\u001b[0m\u001b[0;34m,\u001b[0m \u001b[0;34m\"A\"\u001b[0m\u001b[0;34m,\u001b[0m \u001b[0;34m\"Q\"\u001b[0m\u001b[0;34m,\u001b[0m \u001b[0;34m\"BM\"\u001b[0m\u001b[0;34m,\u001b[0m \u001b[0;34m\"BA\"\u001b[0m\u001b[0;34m,\u001b[0m \u001b[0;34m\"BQ\"\u001b[0m\u001b[0;34m,\u001b[0m \u001b[0;34m\"W\"\u001b[0m\u001b[0;34m}\u001b[0m\u001b[0;34m\u001b[0m\u001b[0;34m\u001b[0m\u001b[0m\n",
      "\u001b[0;32m~/.local/share/virtualenvs/nature-nurtures--FcyQ97q/lib/python3.7/site-packages/pandas/tseries/frequencies.py\u001b[0m in \u001b[0;36mto_offset\u001b[0;34m(freq)\u001b[0m\n\u001b[1;32m    175\u001b[0m                     \u001b[0mdelta\u001b[0m \u001b[0;34m=\u001b[0m \u001b[0mdelta\u001b[0m \u001b[0;34m+\u001b[0m \u001b[0moffset\u001b[0m\u001b[0;34m\u001b[0m\u001b[0;34m\u001b[0m\u001b[0m\n\u001b[1;32m    176\u001b[0m         \u001b[0;32mexcept\u001b[0m \u001b[0;34m(\u001b[0m\u001b[0mValueError\u001b[0m\u001b[0;34m,\u001b[0m \u001b[0mTypeError\u001b[0m\u001b[0;34m)\u001b[0m\u001b[0;34m:\u001b[0m\u001b[0;34m\u001b[0m\u001b[0;34m\u001b[0m\u001b[0m\n\u001b[0;32m--> 177\u001b[0;31m             \u001b[0;32mraise\u001b[0m \u001b[0mValueError\u001b[0m\u001b[0;34m(\u001b[0m\u001b[0mlibfreqs\u001b[0m\u001b[0;34m.\u001b[0m\u001b[0mINVALID_FREQ_ERR_MSG\u001b[0m\u001b[0;34m.\u001b[0m\u001b[0mformat\u001b[0m\u001b[0;34m(\u001b[0m\u001b[0mfreq\u001b[0m\u001b[0;34m)\u001b[0m\u001b[0;34m)\u001b[0m\u001b[0;34m\u001b[0m\u001b[0;34m\u001b[0m\u001b[0m\n\u001b[0m\u001b[1;32m    178\u001b[0m \u001b[0;34m\u001b[0m\u001b[0m\n\u001b[1;32m    179\u001b[0m     \u001b[0;32mif\u001b[0m \u001b[0mdelta\u001b[0m \u001b[0;32mis\u001b[0m \u001b[0;32mNone\u001b[0m\u001b[0;34m:\u001b[0m\u001b[0;34m\u001b[0m\u001b[0;34m\u001b[0m\u001b[0m\n",
      "\u001b[0;31mValueError\u001b[0m: Invalid frequency: 1second"
     ]
    }
   ],
   "source": [
    "peaks_one_subject = peaks_one_subject.resample('1second').count()"
   ]
  },
  {
   "cell_type": "code",
   "execution_count": 283,
   "metadata": {},
   "outputs": [
    {
     "data": {
      "text/html": [
       "<div>\n",
       "<style scoped>\n",
       "    .dataframe tbody tr th:only-of-type {\n",
       "        vertical-align: middle;\n",
       "    }\n",
       "\n",
       "    .dataframe tbody tr th {\n",
       "        vertical-align: top;\n",
       "    }\n",
       "\n",
       "    .dataframe thead th {\n",
       "        text-align: right;\n",
       "    }\n",
       "</style>\n",
       "<table border=\"1\" class=\"dataframe\">\n",
       "  <thead>\n",
       "    <tr style=\"text-align: right;\">\n",
       "      <th></th>\n",
       "      <th>Segmentation</th>\n",
       "      <th>Stimulus</th>\n",
       "      <th>OnsetMs</th>\n",
       "      <th>OffsetMs</th>\n",
       "      <th>Amplitude</th>\n",
       "      <th>StimulusPeakSequenceNr</th>\n",
       "      <th>Unnamed: 10</th>\n",
       "      <th>TotalPeakSequenceNr</th>\n",
       "      <th>Unnamed: 11</th>\n",
       "    </tr>\n",
       "    <tr>\n",
       "      <th>PeakMs</th>\n",
       "      <th></th>\n",
       "      <th></th>\n",
       "      <th></th>\n",
       "      <th></th>\n",
       "      <th></th>\n",
       "      <th></th>\n",
       "      <th></th>\n",
       "      <th></th>\n",
       "      <th></th>\n",
       "    </tr>\n",
       "  </thead>\n",
       "  <tbody>\n",
       "    <tr>\n",
       "      <th>1970-01-01 00:00:00.000108550</th>\n",
       "      <td>D5S1P2</td>\n",
       "      <td>Forest</td>\n",
       "      <td>106787</td>\n",
       "      <td>111059</td>\n",
       "      <td>0.125801</td>\n",
       "      <td>2</td>\n",
       "      <td>NaN</td>\n",
       "      <td>NaN</td>\n",
       "      <td>NaN</td>\n",
       "    </tr>\n",
       "    <tr>\n",
       "      <th>1970-01-01 00:00:00.000007124</th>\n",
       "      <td>D5S1P2</td>\n",
       "      <td>Ocean</td>\n",
       "      <td>3742</td>\n",
       "      <td>8895</td>\n",
       "      <td>0.159000</td>\n",
       "      <td>1</td>\n",
       "      <td>0.036509</td>\n",
       "      <td>NaN</td>\n",
       "      <td>NaN</td>\n",
       "    </tr>\n",
       "    <tr>\n",
       "      <th>1970-01-01 00:00:00.000104620</th>\n",
       "      <td>D5S1P2</td>\n",
       "      <td>Stream</td>\n",
       "      <td>103113</td>\n",
       "      <td>106473</td>\n",
       "      <td>0.124500</td>\n",
       "      <td>14</td>\n",
       "      <td>NaN</td>\n",
       "      <td>NaN</td>\n",
       "      <td>NaN</td>\n",
       "    </tr>\n",
       "    <tr>\n",
       "      <th>1970-01-01 00:00:00.000014390</th>\n",
       "      <td>D5S1P2</td>\n",
       "      <td>Forest</td>\n",
       "      <td>14114</td>\n",
       "      <td>14744</td>\n",
       "      <td>0.149427</td>\n",
       "      <td>7</td>\n",
       "      <td>NaN</td>\n",
       "      <td>NaN</td>\n",
       "      <td>NaN</td>\n",
       "    </tr>\n",
       "    <tr>\n",
       "      <th>1970-01-01 00:00:00.000019273</th>\n",
       "      <td>D5S1P2</td>\n",
       "      <td>Forest</td>\n",
       "      <td>18515</td>\n",
       "      <td>20469</td>\n",
       "      <td>0.129513</td>\n",
       "      <td>10</td>\n",
       "      <td>NaN</td>\n",
       "      <td>NaN</td>\n",
       "      <td>NaN</td>\n",
       "    </tr>\n",
       "  </tbody>\n",
       "</table>\n",
       "</div>"
      ],
      "text/plain": [
       "                              Segmentation Stimulus  OnsetMs  OffsetMs  \\\n",
       "PeakMs                                                                   \n",
       "1970-01-01 00:00:00.000108550       D5S1P2   Forest   106787    111059   \n",
       "1970-01-01 00:00:00.000007124       D5S1P2    Ocean     3742      8895   \n",
       "1970-01-01 00:00:00.000104620       D5S1P2   Stream   103113    106473   \n",
       "1970-01-01 00:00:00.000014390       D5S1P2   Forest    14114     14744   \n",
       "1970-01-01 00:00:00.000019273       D5S1P2   Forest    18515     20469   \n",
       "\n",
       "                               Amplitude  StimulusPeakSequenceNr  Unnamed: 10  \\\n",
       "PeakMs                                                                          \n",
       "1970-01-01 00:00:00.000108550   0.125801                       2          NaN   \n",
       "1970-01-01 00:00:00.000007124   0.159000                       1     0.036509   \n",
       "1970-01-01 00:00:00.000104620   0.124500                      14          NaN   \n",
       "1970-01-01 00:00:00.000014390   0.149427                       7          NaN   \n",
       "1970-01-01 00:00:00.000019273   0.129513                      10          NaN   \n",
       "\n",
       "                               TotalPeakSequenceNr  Unnamed: 11  \n",
       "PeakMs                                                           \n",
       "1970-01-01 00:00:00.000108550                  NaN          NaN  \n",
       "1970-01-01 00:00:00.000007124                  NaN          NaN  \n",
       "1970-01-01 00:00:00.000104620                  NaN          NaN  \n",
       "1970-01-01 00:00:00.000014390                  NaN          NaN  \n",
       "1970-01-01 00:00:00.000019273                  NaN          NaN  "
      ]
     },
     "execution_count": 283,
     "metadata": {},
     "output_type": "execute_result"
    }
   ],
   "source": [
    "peaks_one_subject.head()"
   ]
  },
  {
   "cell_type": "code",
   "execution_count": 284,
   "metadata": {},
   "outputs": [
    {
     "data": {
      "text/plain": [
       "Timestamp\n",
       "2019-02-27 00:00:00.000    False\n",
       "2019-02-27 00:00:00.025     True\n",
       "2019-02-27 00:00:00.050     True\n",
       "2019-02-27 00:00:00.075    False\n",
       "2019-02-27 00:00:00.100    False\n",
       "Name: Timestamp, dtype: bool"
      ]
     },
     "execution_count": 284,
     "metadata": {},
     "output_type": "execute_result"
    }
   ],
   "source": [
    "c0.head()"
   ]
  },
  {
   "cell_type": "code",
   "execution_count": 285,
   "metadata": {
    "scrolled": true
   },
   "outputs": [
    {
     "name": "stderr",
     "output_type": "stream",
     "text": [
      "/Users/trqk-data/.local/share/virtualenvs/nature-nurtures--FcyQ97q/lib/python3.7/site-packages/ipykernel_launcher.py:1: UserWarning: Boolean Series key will be reindexed to match DataFrame index.\n",
      "  \"\"\"Entry point for launching an IPython kernel.\n"
     ]
    },
    {
     "ename": "IndexingError",
     "evalue": "Unalignable boolean Series provided as indexer (index of the boolean Series and of the indexed object do not match).",
     "output_type": "error",
     "traceback": [
      "\u001b[0;31m---------------------------------------------------------------------------\u001b[0m",
      "\u001b[0;31mIndexingError\u001b[0m                             Traceback (most recent call last)",
      "\u001b[0;32m<ipython-input-285-10fde84d4cdd>\u001b[0m in \u001b[0;36m<module>\u001b[0;34m\u001b[0m\n\u001b[0;32m----> 1\u001b[0;31m \u001b[0mpeaks\u001b[0m\u001b[0;34m[\u001b[0m\u001b[0mc0\u001b[0m\u001b[0;34m]\u001b[0m\u001b[0;34m\u001b[0m\u001b[0;34m\u001b[0m\u001b[0m\n\u001b[0m",
      "\u001b[0;32m~/.local/share/virtualenvs/nature-nurtures--FcyQ97q/lib/python3.7/site-packages/pandas/core/frame.py\u001b[0m in \u001b[0;36m__getitem__\u001b[0;34m(self, key)\u001b[0m\n\u001b[1;32m   2789\u001b[0m         \u001b[0;31m# Do we have a (boolean) 1d indexer?\u001b[0m\u001b[0;34m\u001b[0m\u001b[0;34m\u001b[0m\u001b[0;34m\u001b[0m\u001b[0m\n\u001b[1;32m   2790\u001b[0m         \u001b[0;32mif\u001b[0m \u001b[0mcom\u001b[0m\u001b[0;34m.\u001b[0m\u001b[0mis_bool_indexer\u001b[0m\u001b[0;34m(\u001b[0m\u001b[0mkey\u001b[0m\u001b[0;34m)\u001b[0m\u001b[0;34m:\u001b[0m\u001b[0;34m\u001b[0m\u001b[0;34m\u001b[0m\u001b[0m\n\u001b[0;32m-> 2791\u001b[0;31m             \u001b[0;32mreturn\u001b[0m \u001b[0mself\u001b[0m\u001b[0;34m.\u001b[0m\u001b[0m_getitem_bool_array\u001b[0m\u001b[0;34m(\u001b[0m\u001b[0mkey\u001b[0m\u001b[0;34m)\u001b[0m\u001b[0;34m\u001b[0m\u001b[0;34m\u001b[0m\u001b[0m\n\u001b[0m\u001b[1;32m   2792\u001b[0m \u001b[0;34m\u001b[0m\u001b[0m\n\u001b[1;32m   2793\u001b[0m         \u001b[0;31m# We are left with two options: a single key, and a collection of keys,\u001b[0m\u001b[0;34m\u001b[0m\u001b[0;34m\u001b[0m\u001b[0;34m\u001b[0m\u001b[0m\n",
      "\u001b[0;32m~/.local/share/virtualenvs/nature-nurtures--FcyQ97q/lib/python3.7/site-packages/pandas/core/frame.py\u001b[0m in \u001b[0;36m_getitem_bool_array\u001b[0;34m(self, key)\u001b[0m\n\u001b[1;32m   2841\u001b[0m         \u001b[0;31m# check_bool_indexer will throw exception if Series key cannot\u001b[0m\u001b[0;34m\u001b[0m\u001b[0;34m\u001b[0m\u001b[0;34m\u001b[0m\u001b[0m\n\u001b[1;32m   2842\u001b[0m         \u001b[0;31m# be reindexed to match DataFrame rows\u001b[0m\u001b[0;34m\u001b[0m\u001b[0;34m\u001b[0m\u001b[0;34m\u001b[0m\u001b[0m\n\u001b[0;32m-> 2843\u001b[0;31m         \u001b[0mkey\u001b[0m \u001b[0;34m=\u001b[0m \u001b[0mcheck_bool_indexer\u001b[0m\u001b[0;34m(\u001b[0m\u001b[0mself\u001b[0m\u001b[0;34m.\u001b[0m\u001b[0mindex\u001b[0m\u001b[0;34m,\u001b[0m \u001b[0mkey\u001b[0m\u001b[0;34m)\u001b[0m\u001b[0;34m\u001b[0m\u001b[0;34m\u001b[0m\u001b[0m\n\u001b[0m\u001b[1;32m   2844\u001b[0m         \u001b[0mindexer\u001b[0m \u001b[0;34m=\u001b[0m \u001b[0mkey\u001b[0m\u001b[0;34m.\u001b[0m\u001b[0mnonzero\u001b[0m\u001b[0;34m(\u001b[0m\u001b[0;34m)\u001b[0m\u001b[0;34m[\u001b[0m\u001b[0;36m0\u001b[0m\u001b[0;34m]\u001b[0m\u001b[0;34m\u001b[0m\u001b[0;34m\u001b[0m\u001b[0m\n\u001b[1;32m   2845\u001b[0m         \u001b[0;32mreturn\u001b[0m \u001b[0mself\u001b[0m\u001b[0;34m.\u001b[0m\u001b[0m_take_with_is_copy\u001b[0m\u001b[0;34m(\u001b[0m\u001b[0mindexer\u001b[0m\u001b[0;34m,\u001b[0m \u001b[0maxis\u001b[0m\u001b[0;34m=\u001b[0m\u001b[0;36m0\u001b[0m\u001b[0;34m)\u001b[0m\u001b[0;34m\u001b[0m\u001b[0;34m\u001b[0m\u001b[0m\n",
      "\u001b[0;32m~/.local/share/virtualenvs/nature-nurtures--FcyQ97q/lib/python3.7/site-packages/pandas/core/indexing.py\u001b[0m in \u001b[0;36mcheck_bool_indexer\u001b[0;34m(index, key)\u001b[0m\n\u001b[1;32m   2315\u001b[0m         \u001b[0;32mif\u001b[0m \u001b[0mmask\u001b[0m\u001b[0;34m.\u001b[0m\u001b[0many\u001b[0m\u001b[0;34m(\u001b[0m\u001b[0;34m)\u001b[0m\u001b[0;34m:\u001b[0m\u001b[0;34m\u001b[0m\u001b[0;34m\u001b[0m\u001b[0m\n\u001b[1;32m   2316\u001b[0m             raise IndexingError(\n\u001b[0;32m-> 2317\u001b[0;31m                 \u001b[0;34m\"Unalignable boolean Series provided as \"\u001b[0m\u001b[0;34m\u001b[0m\u001b[0;34m\u001b[0m\u001b[0m\n\u001b[0m\u001b[1;32m   2318\u001b[0m                 \u001b[0;34m\"indexer (index of the boolean Series and of \"\u001b[0m\u001b[0;34m\u001b[0m\u001b[0;34m\u001b[0m\u001b[0m\n\u001b[1;32m   2319\u001b[0m                 \u001b[0;34m\"the indexed object do not match).\"\u001b[0m\u001b[0;34m\u001b[0m\u001b[0;34m\u001b[0m\u001b[0m\n",
      "\u001b[0;31mIndexingError\u001b[0m: Unalignable boolean Series provided as indexer (index of the boolean Series and of the indexed object do not match)."
     ]
    }
   ],
   "source": [
    "peaks[c0]"
   ]
  }
 ],
 "metadata": {
  "kernelspec": {
   "display_name": "Python 3",
   "language": "python",
   "name": "python3"
  },
  "language_info": {
   "codemirror_mode": {
    "name": "ipython",
    "version": 3
   },
   "file_extension": ".py",
   "mimetype": "text/x-python",
   "name": "python",
   "nbconvert_exporter": "python",
   "pygments_lexer": "ipython3",
   "version": "3.7.4"
  }
 },
 "nbformat": 4,
 "nbformat_minor": 2
}
